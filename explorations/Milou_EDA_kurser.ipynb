{
 "cells": [
  {
   "cell_type": "code",
   "execution_count": 3,
   "id": "56022388",
   "metadata": {},
   "outputs": [
    {
     "name": "stdout",
     "output_type": "stream",
     "text": [
      "Ansökningar DataFrame:\n",
      "     Diarienummer                             Anordnare namn  \\\n",
      "0  MYH 2021/1303                        YrkesAkademin YH AB   \n",
      "1  MYH 2021/1312                        YrkesAkademin YH AB   \n",
      "2  MYH 2021/1339                        YrkesAkademin YH AB   \n",
      "3  MYH 2021/1341                        YrkesAkademin YH AB   \n",
      "4  MYH 2021/1346  KompetensUtvecklingsInstitutet Sverige AB   \n",
      "\n",
      "                                     Utbildningsnamn  \\\n",
      "0          Teknisk svenska inom bygg och anläggning.   \n",
      "1     Projektering och drift av solcellsanläggningar   \n",
      "2  Arbetsledare med digitalkompetens inom samhäll...   \n",
      "3                                        Bid Manager   \n",
      "4                                     Palliativ vård   \n",
      "\n",
      "                         Utbildningsområde  Sökt antal  platser 2021  \\\n",
      "0                                   Övrigt                      30.0   \n",
      "1           Samhällsbyggnad och byggteknik                      40.0   \n",
      "2           Samhällsbyggnad och byggteknik                      30.0   \n",
      "3  Ekonomi, administration och försäljning                      35.0   \n",
      "4  Hälso- och sjukvård samt socialt arbete                      30.0   \n",
      "\n",
      "   Sökt antal platser 2022  YH-poäng                     Kommun  \\\n",
      "0                     30.0        20                  Stockholm   \n",
      "1                     80.0        80  Se \"Lista flera kommuner\"   \n",
      "2                     30.0        50                 Skellefteå   \n",
      "3                     35.0        70  Se \"Lista flera kommuner\"   \n",
      "4                     60.0        30  Se \"Lista flera kommuner\"   \n",
      "\n",
      "                         Län                  FA-region  Antal kommuner  \\\n",
      "0                  Stockholm                  Stockholm               1   \n",
      "1  Se \"Lista flera kommuner\"  Se \"Lista flera kommuner\"               3   \n",
      "2               Västerbotten                 Skellefteå               1   \n",
      "3  Se \"Lista flera kommuner\"  Se \"Lista flera kommuner\"               3   \n",
      "4  Se \"Lista flera kommuner\"  Se \"Lista flera kommuner\"               3   \n",
      "\n",
      "   Antal län  Antal FA-regioner Sökt utbildningsområde  \\\n",
      "0          1                  1                    NaN   \n",
      "1          3                  3                    NaN   \n",
      "2          1                  1                    NaN   \n",
      "3          3                  3                    NaN   \n",
      "4          3                  3                    NaN   \n",
      "\n",
      "   Sökt antal platser 2023  Sökt antal platser 2024  \\\n",
      "0                      NaN                      NaN   \n",
      "1                      NaN                      NaN   \n",
      "2                      NaN                      NaN   \n",
      "3                      NaN                      NaN   \n",
      "4                      NaN                      NaN   \n",
      "\n",
      "   Sökt antal platser 2024 (start och avslut 2024)  Sökt antal platser 2025  \n",
      "0                                              NaN                      NaN  \n",
      "1                                              NaN                      NaN  \n",
      "2                                              NaN                      NaN  \n",
      "3                                              NaN                      NaN  \n",
      "4                                              NaN                      NaN  \n",
      "\n",
      "Beviljade DataFrame:\n",
      "   Utbildningsområde                                    Utbildningsnamn  \\\n",
      "0           Data/IT  Affärsinriktad IT-Servicemanager med kompetens...   \n",
      "1           Data/IT                            Agil förändringsledning   \n",
      "2           Data/IT        Agila arbetsmetoder & DevOps för utvecklare   \n",
      "3           Data/IT                               Agile Project Leader   \n",
      "4           Data/IT             AI för effektiv digital marknadsföring   \n",
      "\n",
      "   YH-poäng                                          Anordnare   Kommun 1  \\\n",
      "0        50  Folkuniversitetet - Stiftelsen Kursverksamhete...    Uppsala   \n",
      "1        30                       IHM Business School AB Malmö      Malmö   \n",
      "2        40                               Lernia Utbildning AB      Malmö   \n",
      "3        60                          Changemaker Educations AB  Stockholm   \n",
      "4        30                               Göteborgs stad, Yrgo   Göteborg   \n",
      "\n",
      "  Kommun 2    Kommun 3  Kommun 4 Kommun 5 Kommun 6  ... FA-region  \\\n",
      "0        .           .         .        .        .  ...       NaN   \n",
      "1        .           .         .        .        .  ...       NaN   \n",
      "2        .           .         .        .        .  ...       NaN   \n",
      "3    Boden  Skellefteå  Karlstad        .        .  ...       NaN   \n",
      "4        .           .         .        .        .  ...       NaN   \n",
      "\n",
      "  Antal kommuner Antal län Antal FA-regioner  Beslut  \\\n",
      "0            NaN       NaN               NaN     NaN   \n",
      "1            NaN       NaN               NaN     NaN   \n",
      "2            NaN       NaN               NaN     NaN   \n",
      "3            NaN       NaN               NaN     NaN   \n",
      "4            NaN       NaN               NaN     NaN   \n",
      "\n",
      "  Antal beviljade platser 2023 Antal beviljade platser 2024  \\\n",
      "0                          NaN                          NaN   \n",
      "1                          NaN                          NaN   \n",
      "2                          NaN                          NaN   \n",
      "3                          NaN                          NaN   \n",
      "4                          NaN                          NaN   \n",
      "\n",
      "  Antal beviljade platser start 2024  \\\n",
      "0                                NaN   \n",
      "1                                NaN   \n",
      "2                                NaN   \n",
      "3                                NaN   \n",
      "4                                NaN   \n",
      "\n",
      "   Antal beviljade platser start och slut 2024  \\\n",
      "0                                          NaN   \n",
      "1                                          NaN   \n",
      "2                                          NaN   \n",
      "3                                          NaN   \n",
      "4                                          NaN   \n",
      "\n",
      "   Antal beviljade platser start 2025  \n",
      "0                                 NaN  \n",
      "1                                 NaN  \n",
      "2                                 NaN  \n",
      "3                                 NaN  \n",
      "4                                 NaN  \n",
      "\n",
      "[5 rows x 33 columns]\n"
     ]
    }
   ],
   "source": [
    "import pandas as pd\n",
    "import duckdb as db\n",
    "import os\n",
    "\n",
    "# Läs in ansökningar\n",
    "ansokningar_files = [\n",
    "    \"../src/data/kursdata/ansokningar-2021.xlsx\",\n",
    "    \"../src/data/kursdata/ansokningar-2023.xlsx\",\n",
    "    \"../src/data/kursdata/ansokningar-2024.xlsx\"\n",
    "]\n",
    "\n",
    "ansokningar_df = pd.concat([pd.read_excel(file) for file in ansokningar_files], ignore_index=True)\n",
    "\n",
    "# Läs in beviljade\n",
    "beviljade_files = [\n",
    "    \"../src/data/kursdata/Beviljade-kurser-2020-vår.xlsx\",\n",
    "    \"../src/data/kursdata/Beviljade-kurser-2020-vår.xlsx\",\n",
    "    \"../src/data/kursdata/Beviljade-kurser-2021.xlsx\",\n",
    "    \"../src/data/kursdata/Beviljade-kurser-2022.xlsx\",\n",
    "    \"../src/data/kursdata/Beviljade-kurser-2023.xlsx\",\n",
    "    \"../src/data/kursdata/Beviljade-kurser-2024.xlsx\"\n",
    "    \n",
    "]\n",
    "\n",
    "beviljade_df = pd.concat([pd.read_excel(file) for file in beviljade_files], ignore_index=True)\n",
    "\n",
    "# Visa de första raderna i varje DataFrame\n",
    "print(\"Ansökningar DataFrame:\\n\", ansokningar_df.head())\n",
    "print(\"\\nBeviljade DataFrame:\\n\", beviljade_df.head())\n"
   ]
  },
  {
   "cell_type": "code",
   "execution_count": 4,
   "id": "ec4f910b",
   "metadata": {},
   "outputs": [
    {
     "data": {
      "text/html": [
       "<div>\n",
       "<style scoped>\n",
       "    .dataframe tbody tr th:only-of-type {\n",
       "        vertical-align: middle;\n",
       "    }\n",
       "\n",
       "    .dataframe tbody tr th {\n",
       "        vertical-align: top;\n",
       "    }\n",
       "\n",
       "    .dataframe thead th {\n",
       "        text-align: right;\n",
       "    }\n",
       "</style>\n",
       "<table border=\"1\" class=\"dataframe\">\n",
       "  <thead>\n",
       "    <tr style=\"text-align: right;\">\n",
       "      <th></th>\n",
       "      <th>Diarienummer</th>\n",
       "      <th>Anordnare namn</th>\n",
       "      <th>Utbildningsnamn</th>\n",
       "      <th>Utbildningsområde</th>\n",
       "      <th>Sökt antal  platser 2021</th>\n",
       "      <th>Sökt antal platser 2022</th>\n",
       "      <th>YH-poäng</th>\n",
       "      <th>Kommun</th>\n",
       "      <th>Län</th>\n",
       "      <th>FA-region</th>\n",
       "      <th>Antal kommuner</th>\n",
       "      <th>Antal län</th>\n",
       "      <th>Antal FA-regioner</th>\n",
       "      <th>Sökt utbildningsområde</th>\n",
       "      <th>Sökt antal platser 2023</th>\n",
       "      <th>Sökt antal platser 2024</th>\n",
       "      <th>Sökt antal platser 2024 (start och avslut 2024)</th>\n",
       "      <th>Sökt antal platser 2025</th>\n",
       "    </tr>\n",
       "  </thead>\n",
       "  <tbody>\n",
       "    <tr>\n",
       "      <th>0</th>\n",
       "      <td>MYH 2021/1303</td>\n",
       "      <td>YrkesAkademin YH AB</td>\n",
       "      <td>Teknisk svenska inom bygg och anläggning.</td>\n",
       "      <td>Övrigt</td>\n",
       "      <td>30.0</td>\n",
       "      <td>30.0</td>\n",
       "      <td>20</td>\n",
       "      <td>Stockholm</td>\n",
       "      <td>Stockholm</td>\n",
       "      <td>Stockholm</td>\n",
       "      <td>1</td>\n",
       "      <td>1</td>\n",
       "      <td>1</td>\n",
       "      <td>NaN</td>\n",
       "      <td>NaN</td>\n",
       "      <td>NaN</td>\n",
       "      <td>NaN</td>\n",
       "      <td>NaN</td>\n",
       "    </tr>\n",
       "    <tr>\n",
       "      <th>1</th>\n",
       "      <td>MYH 2021/1312</td>\n",
       "      <td>YrkesAkademin YH AB</td>\n",
       "      <td>Projektering och drift av solcellsanläggningar</td>\n",
       "      <td>Samhällsbyggnad och byggteknik</td>\n",
       "      <td>40.0</td>\n",
       "      <td>80.0</td>\n",
       "      <td>80</td>\n",
       "      <td>Se \"Lista flera kommuner\"</td>\n",
       "      <td>Se \"Lista flera kommuner\"</td>\n",
       "      <td>Se \"Lista flera kommuner\"</td>\n",
       "      <td>3</td>\n",
       "      <td>3</td>\n",
       "      <td>3</td>\n",
       "      <td>NaN</td>\n",
       "      <td>NaN</td>\n",
       "      <td>NaN</td>\n",
       "      <td>NaN</td>\n",
       "      <td>NaN</td>\n",
       "    </tr>\n",
       "    <tr>\n",
       "      <th>2</th>\n",
       "      <td>MYH 2021/1339</td>\n",
       "      <td>YrkesAkademin YH AB</td>\n",
       "      <td>Arbetsledare med digitalkompetens inom samhäll...</td>\n",
       "      <td>Samhällsbyggnad och byggteknik</td>\n",
       "      <td>30.0</td>\n",
       "      <td>30.0</td>\n",
       "      <td>50</td>\n",
       "      <td>Skellefteå</td>\n",
       "      <td>Västerbotten</td>\n",
       "      <td>Skellefteå</td>\n",
       "      <td>1</td>\n",
       "      <td>1</td>\n",
       "      <td>1</td>\n",
       "      <td>NaN</td>\n",
       "      <td>NaN</td>\n",
       "      <td>NaN</td>\n",
       "      <td>NaN</td>\n",
       "      <td>NaN</td>\n",
       "    </tr>\n",
       "    <tr>\n",
       "      <th>3</th>\n",
       "      <td>MYH 2021/1341</td>\n",
       "      <td>YrkesAkademin YH AB</td>\n",
       "      <td>Bid Manager</td>\n",
       "      <td>Ekonomi, administration och försäljning</td>\n",
       "      <td>35.0</td>\n",
       "      <td>35.0</td>\n",
       "      <td>70</td>\n",
       "      <td>Se \"Lista flera kommuner\"</td>\n",
       "      <td>Se \"Lista flera kommuner\"</td>\n",
       "      <td>Se \"Lista flera kommuner\"</td>\n",
       "      <td>3</td>\n",
       "      <td>3</td>\n",
       "      <td>3</td>\n",
       "      <td>NaN</td>\n",
       "      <td>NaN</td>\n",
       "      <td>NaN</td>\n",
       "      <td>NaN</td>\n",
       "      <td>NaN</td>\n",
       "    </tr>\n",
       "    <tr>\n",
       "      <th>4</th>\n",
       "      <td>MYH 2021/1346</td>\n",
       "      <td>KompetensUtvecklingsInstitutet Sverige AB</td>\n",
       "      <td>Palliativ vård</td>\n",
       "      <td>Hälso- och sjukvård samt socialt arbete</td>\n",
       "      <td>30.0</td>\n",
       "      <td>60.0</td>\n",
       "      <td>30</td>\n",
       "      <td>Se \"Lista flera kommuner\"</td>\n",
       "      <td>Se \"Lista flera kommuner\"</td>\n",
       "      <td>Se \"Lista flera kommuner\"</td>\n",
       "      <td>3</td>\n",
       "      <td>3</td>\n",
       "      <td>3</td>\n",
       "      <td>NaN</td>\n",
       "      <td>NaN</td>\n",
       "      <td>NaN</td>\n",
       "      <td>NaN</td>\n",
       "      <td>NaN</td>\n",
       "    </tr>\n",
       "    <tr>\n",
       "      <th>...</th>\n",
       "      <td>...</td>\n",
       "      <td>...</td>\n",
       "      <td>...</td>\n",
       "      <td>...</td>\n",
       "      <td>...</td>\n",
       "      <td>...</td>\n",
       "      <td>...</td>\n",
       "      <td>...</td>\n",
       "      <td>...</td>\n",
       "      <td>...</td>\n",
       "      <td>...</td>\n",
       "      <td>...</td>\n",
       "      <td>...</td>\n",
       "      <td>...</td>\n",
       "      <td>...</td>\n",
       "      <td>...</td>\n",
       "      <td>...</td>\n",
       "      <td>...</td>\n",
       "    </tr>\n",
       "    <tr>\n",
       "      <th>2064</th>\n",
       "      <td>MYH 2024/995</td>\n",
       "      <td>Hyper Island Program AB - Stockholm</td>\n",
       "      <td>Data Analytics</td>\n",
       "      <td>NaN</td>\n",
       "      <td>NaN</td>\n",
       "      <td>NaN</td>\n",
       "      <td>55</td>\n",
       "      <td>Stockholm</td>\n",
       "      <td>Stockholm</td>\n",
       "      <td>Stockholm</td>\n",
       "      <td>1</td>\n",
       "      <td>1</td>\n",
       "      <td>1</td>\n",
       "      <td>Data/IT</td>\n",
       "      <td>NaN</td>\n",
       "      <td>50.0</td>\n",
       "      <td>0.0</td>\n",
       "      <td>50.0</td>\n",
       "    </tr>\n",
       "    <tr>\n",
       "      <th>2065</th>\n",
       "      <td>MYH 2024/996</td>\n",
       "      <td>INSU AB</td>\n",
       "      <td>Solteknik- installation, säkerhet och regelverk</td>\n",
       "      <td>NaN</td>\n",
       "      <td>NaN</td>\n",
       "      <td>NaN</td>\n",
       "      <td>60</td>\n",
       "      <td>Nyköping</td>\n",
       "      <td>Södermanland</td>\n",
       "      <td>Nyköping-Oxelösund</td>\n",
       "      <td>1</td>\n",
       "      <td>1</td>\n",
       "      <td>1</td>\n",
       "      <td>Teknik och tillverkning</td>\n",
       "      <td>NaN</td>\n",
       "      <td>35.0</td>\n",
       "      <td>0.0</td>\n",
       "      <td>35.0</td>\n",
       "    </tr>\n",
       "    <tr>\n",
       "      <th>2066</th>\n",
       "      <td>MYH 2024/997</td>\n",
       "      <td>INSU AB</td>\n",
       "      <td>Säkerhetsprojektering- brand-, inbrott-, kamer...</td>\n",
       "      <td>NaN</td>\n",
       "      <td>NaN</td>\n",
       "      <td>NaN</td>\n",
       "      <td>95</td>\n",
       "      <td>Nyköping</td>\n",
       "      <td>Södermanland</td>\n",
       "      <td>Nyköping-Oxelösund</td>\n",
       "      <td>1</td>\n",
       "      <td>1</td>\n",
       "      <td>1</td>\n",
       "      <td>Samhällsbyggnad och byggteknik</td>\n",
       "      <td>NaN</td>\n",
       "      <td>0.0</td>\n",
       "      <td>0.0</td>\n",
       "      <td>50.0</td>\n",
       "    </tr>\n",
       "    <tr>\n",
       "      <th>2067</th>\n",
       "      <td>MYH 2024/998</td>\n",
       "      <td>Campus Nyköping</td>\n",
       "      <td>Hälsofrämjande och pedagogiska insatser med häst</td>\n",
       "      <td>NaN</td>\n",
       "      <td>NaN</td>\n",
       "      <td>NaN</td>\n",
       "      <td>50</td>\n",
       "      <td>Nyköping</td>\n",
       "      <td>Södermanland</td>\n",
       "      <td>Nyköping-Oxelösund</td>\n",
       "      <td>1</td>\n",
       "      <td>1</td>\n",
       "      <td>1</td>\n",
       "      <td>Lantbruk, djurvård, trädgård, skog och fiske</td>\n",
       "      <td>NaN</td>\n",
       "      <td>24.0</td>\n",
       "      <td>0.0</td>\n",
       "      <td>0.0</td>\n",
       "    </tr>\n",
       "    <tr>\n",
       "      <th>2068</th>\n",
       "      <td>MYH 2024/999</td>\n",
       "      <td>Changemaker Educations AB</td>\n",
       "      <td>Futuregames Accessible Game Design</td>\n",
       "      <td>NaN</td>\n",
       "      <td>NaN</td>\n",
       "      <td>NaN</td>\n",
       "      <td>25</td>\n",
       "      <td>Se \"Lista flera kommuner\"</td>\n",
       "      <td>Se \"Lista flera kommuner\"</td>\n",
       "      <td>Se \"Lista flera kommuner\"</td>\n",
       "      <td>3</td>\n",
       "      <td>3</td>\n",
       "      <td>3</td>\n",
       "      <td>Data/IT</td>\n",
       "      <td>NaN</td>\n",
       "      <td>35.0</td>\n",
       "      <td>0.0</td>\n",
       "      <td>35.0</td>\n",
       "    </tr>\n",
       "  </tbody>\n",
       "</table>\n",
       "<p>2069 rows × 18 columns</p>\n",
       "</div>"
      ],
      "text/plain": [
       "       Diarienummer                             Anordnare namn  \\\n",
       "0     MYH 2021/1303                        YrkesAkademin YH AB   \n",
       "1     MYH 2021/1312                        YrkesAkademin YH AB   \n",
       "2     MYH 2021/1339                        YrkesAkademin YH AB   \n",
       "3     MYH 2021/1341                        YrkesAkademin YH AB   \n",
       "4     MYH 2021/1346  KompetensUtvecklingsInstitutet Sverige AB   \n",
       "...             ...                                        ...   \n",
       "2064   MYH 2024/995        Hyper Island Program AB - Stockholm   \n",
       "2065   MYH 2024/996                                    INSU AB   \n",
       "2066   MYH 2024/997                                    INSU AB   \n",
       "2067   MYH 2024/998                            Campus Nyköping   \n",
       "2068   MYH 2024/999                  Changemaker Educations AB   \n",
       "\n",
       "                                        Utbildningsnamn  \\\n",
       "0             Teknisk svenska inom bygg och anläggning.   \n",
       "1        Projektering och drift av solcellsanläggningar   \n",
       "2     Arbetsledare med digitalkompetens inom samhäll...   \n",
       "3                                           Bid Manager   \n",
       "4                                        Palliativ vård   \n",
       "...                                                 ...   \n",
       "2064                                     Data Analytics   \n",
       "2065    Solteknik- installation, säkerhet och regelverk   \n",
       "2066  Säkerhetsprojektering- brand-, inbrott-, kamer...   \n",
       "2067   Hälsofrämjande och pedagogiska insatser med häst   \n",
       "2068                 Futuregames Accessible Game Design   \n",
       "\n",
       "                            Utbildningsområde  Sökt antal  platser 2021  \\\n",
       "0                                      Övrigt                      30.0   \n",
       "1              Samhällsbyggnad och byggteknik                      40.0   \n",
       "2              Samhällsbyggnad och byggteknik                      30.0   \n",
       "3     Ekonomi, administration och försäljning                      35.0   \n",
       "4     Hälso- och sjukvård samt socialt arbete                      30.0   \n",
       "...                                       ...                       ...   \n",
       "2064                                      NaN                       NaN   \n",
       "2065                                      NaN                       NaN   \n",
       "2066                                      NaN                       NaN   \n",
       "2067                                      NaN                       NaN   \n",
       "2068                                      NaN                       NaN   \n",
       "\n",
       "      Sökt antal platser 2022  YH-poäng                     Kommun  \\\n",
       "0                        30.0        20                  Stockholm   \n",
       "1                        80.0        80  Se \"Lista flera kommuner\"   \n",
       "2                        30.0        50                 Skellefteå   \n",
       "3                        35.0        70  Se \"Lista flera kommuner\"   \n",
       "4                        60.0        30  Se \"Lista flera kommuner\"   \n",
       "...                       ...       ...                        ...   \n",
       "2064                      NaN        55                  Stockholm   \n",
       "2065                      NaN        60                   Nyköping   \n",
       "2066                      NaN        95                   Nyköping   \n",
       "2067                      NaN        50                   Nyköping   \n",
       "2068                      NaN        25  Se \"Lista flera kommuner\"   \n",
       "\n",
       "                            Län                  FA-region  Antal kommuner  \\\n",
       "0                     Stockholm                  Stockholm               1   \n",
       "1     Se \"Lista flera kommuner\"  Se \"Lista flera kommuner\"               3   \n",
       "2                  Västerbotten                 Skellefteå               1   \n",
       "3     Se \"Lista flera kommuner\"  Se \"Lista flera kommuner\"               3   \n",
       "4     Se \"Lista flera kommuner\"  Se \"Lista flera kommuner\"               3   \n",
       "...                         ...                        ...             ...   \n",
       "2064                  Stockholm                  Stockholm               1   \n",
       "2065               Södermanland         Nyköping-Oxelösund               1   \n",
       "2066               Södermanland         Nyköping-Oxelösund               1   \n",
       "2067               Södermanland         Nyköping-Oxelösund               1   \n",
       "2068  Se \"Lista flera kommuner\"  Se \"Lista flera kommuner\"               3   \n",
       "\n",
       "      Antal län  Antal FA-regioner  \\\n",
       "0             1                  1   \n",
       "1             3                  3   \n",
       "2             1                  1   \n",
       "3             3                  3   \n",
       "4             3                  3   \n",
       "...         ...                ...   \n",
       "2064          1                  1   \n",
       "2065          1                  1   \n",
       "2066          1                  1   \n",
       "2067          1                  1   \n",
       "2068          3                  3   \n",
       "\n",
       "                            Sökt utbildningsområde  Sökt antal platser 2023  \\\n",
       "0                                              NaN                      NaN   \n",
       "1                                              NaN                      NaN   \n",
       "2                                              NaN                      NaN   \n",
       "3                                              NaN                      NaN   \n",
       "4                                              NaN                      NaN   \n",
       "...                                            ...                      ...   \n",
       "2064                                       Data/IT                      NaN   \n",
       "2065                       Teknik och tillverkning                      NaN   \n",
       "2066                Samhällsbyggnad och byggteknik                      NaN   \n",
       "2067  Lantbruk, djurvård, trädgård, skog och fiske                      NaN   \n",
       "2068                                       Data/IT                      NaN   \n",
       "\n",
       "      Sökt antal platser 2024  \\\n",
       "0                         NaN   \n",
       "1                         NaN   \n",
       "2                         NaN   \n",
       "3                         NaN   \n",
       "4                         NaN   \n",
       "...                       ...   \n",
       "2064                     50.0   \n",
       "2065                     35.0   \n",
       "2066                      0.0   \n",
       "2067                     24.0   \n",
       "2068                     35.0   \n",
       "\n",
       "      Sökt antal platser 2024 (start och avslut 2024)  Sökt antal platser 2025  \n",
       "0                                                 NaN                      NaN  \n",
       "1                                                 NaN                      NaN  \n",
       "2                                                 NaN                      NaN  \n",
       "3                                                 NaN                      NaN  \n",
       "4                                                 NaN                      NaN  \n",
       "...                                               ...                      ...  \n",
       "2064                                              0.0                     50.0  \n",
       "2065                                              0.0                     35.0  \n",
       "2066                                              0.0                     50.0  \n",
       "2067                                              0.0                      0.0  \n",
       "2068                                              0.0                     35.0  \n",
       "\n",
       "[2069 rows x 18 columns]"
      ]
     },
     "execution_count": 4,
     "metadata": {},
     "output_type": "execute_result"
    }
   ],
   "source": [
    "ansokningar_df"
   ]
  },
  {
   "cell_type": "code",
   "execution_count": 5,
   "id": "7b4ca480",
   "metadata": {},
   "outputs": [
    {
     "data": {
      "text/html": [
       "<div>\n",
       "<style scoped>\n",
       "    .dataframe tbody tr th:only-of-type {\n",
       "        vertical-align: middle;\n",
       "    }\n",
       "\n",
       "    .dataframe tbody tr th {\n",
       "        vertical-align: top;\n",
       "    }\n",
       "\n",
       "    .dataframe thead th {\n",
       "        text-align: right;\n",
       "    }\n",
       "</style>\n",
       "<table border=\"1\" class=\"dataframe\">\n",
       "  <thead>\n",
       "    <tr style=\"text-align: right;\">\n",
       "      <th></th>\n",
       "      <th>Utbildningsområde</th>\n",
       "      <th>Utbildningsnamn</th>\n",
       "      <th>YH-poäng</th>\n",
       "      <th>Anordnare</th>\n",
       "      <th>Kommun 1</th>\n",
       "      <th>Kommun 2</th>\n",
       "      <th>Kommun 3</th>\n",
       "      <th>Kommun 4</th>\n",
       "      <th>Kommun 5</th>\n",
       "      <th>Kommun 6</th>\n",
       "      <th>...</th>\n",
       "      <th>FA-region</th>\n",
       "      <th>Antal kommuner</th>\n",
       "      <th>Antal län</th>\n",
       "      <th>Antal FA-regioner</th>\n",
       "      <th>Beslut</th>\n",
       "      <th>Antal beviljade platser 2023</th>\n",
       "      <th>Antal beviljade platser 2024</th>\n",
       "      <th>Antal beviljade platser start 2024</th>\n",
       "      <th>Antal beviljade platser start och slut 2024</th>\n",
       "      <th>Antal beviljade platser start 2025</th>\n",
       "    </tr>\n",
       "  </thead>\n",
       "  <tbody>\n",
       "    <tr>\n",
       "      <th>0</th>\n",
       "      <td>Data/IT</td>\n",
       "      <td>Affärsinriktad IT-Servicemanager med kompetens...</td>\n",
       "      <td>50</td>\n",
       "      <td>Folkuniversitetet - Stiftelsen Kursverksamhete...</td>\n",
       "      <td>Uppsala</td>\n",
       "      <td>.</td>\n",
       "      <td>.</td>\n",
       "      <td>.</td>\n",
       "      <td>.</td>\n",
       "      <td>.</td>\n",
       "      <td>...</td>\n",
       "      <td>NaN</td>\n",
       "      <td>NaN</td>\n",
       "      <td>NaN</td>\n",
       "      <td>NaN</td>\n",
       "      <td>NaN</td>\n",
       "      <td>NaN</td>\n",
       "      <td>NaN</td>\n",
       "      <td>NaN</td>\n",
       "      <td>NaN</td>\n",
       "      <td>NaN</td>\n",
       "    </tr>\n",
       "    <tr>\n",
       "      <th>1</th>\n",
       "      <td>Data/IT</td>\n",
       "      <td>Agil förändringsledning</td>\n",
       "      <td>30</td>\n",
       "      <td>IHM Business School AB Malmö</td>\n",
       "      <td>Malmö</td>\n",
       "      <td>.</td>\n",
       "      <td>.</td>\n",
       "      <td>.</td>\n",
       "      <td>.</td>\n",
       "      <td>.</td>\n",
       "      <td>...</td>\n",
       "      <td>NaN</td>\n",
       "      <td>NaN</td>\n",
       "      <td>NaN</td>\n",
       "      <td>NaN</td>\n",
       "      <td>NaN</td>\n",
       "      <td>NaN</td>\n",
       "      <td>NaN</td>\n",
       "      <td>NaN</td>\n",
       "      <td>NaN</td>\n",
       "      <td>NaN</td>\n",
       "    </tr>\n",
       "    <tr>\n",
       "      <th>2</th>\n",
       "      <td>Data/IT</td>\n",
       "      <td>Agila arbetsmetoder &amp; DevOps för utvecklare</td>\n",
       "      <td>40</td>\n",
       "      <td>Lernia Utbildning AB</td>\n",
       "      <td>Malmö</td>\n",
       "      <td>.</td>\n",
       "      <td>.</td>\n",
       "      <td>.</td>\n",
       "      <td>.</td>\n",
       "      <td>.</td>\n",
       "      <td>...</td>\n",
       "      <td>NaN</td>\n",
       "      <td>NaN</td>\n",
       "      <td>NaN</td>\n",
       "      <td>NaN</td>\n",
       "      <td>NaN</td>\n",
       "      <td>NaN</td>\n",
       "      <td>NaN</td>\n",
       "      <td>NaN</td>\n",
       "      <td>NaN</td>\n",
       "      <td>NaN</td>\n",
       "    </tr>\n",
       "    <tr>\n",
       "      <th>3</th>\n",
       "      <td>Data/IT</td>\n",
       "      <td>Agile Project Leader</td>\n",
       "      <td>60</td>\n",
       "      <td>Changemaker Educations AB</td>\n",
       "      <td>Stockholm</td>\n",
       "      <td>Boden</td>\n",
       "      <td>Skellefteå</td>\n",
       "      <td>Karlstad</td>\n",
       "      <td>.</td>\n",
       "      <td>.</td>\n",
       "      <td>...</td>\n",
       "      <td>NaN</td>\n",
       "      <td>NaN</td>\n",
       "      <td>NaN</td>\n",
       "      <td>NaN</td>\n",
       "      <td>NaN</td>\n",
       "      <td>NaN</td>\n",
       "      <td>NaN</td>\n",
       "      <td>NaN</td>\n",
       "      <td>NaN</td>\n",
       "      <td>NaN</td>\n",
       "    </tr>\n",
       "    <tr>\n",
       "      <th>4</th>\n",
       "      <td>Data/IT</td>\n",
       "      <td>AI för effektiv digital marknadsföring</td>\n",
       "      <td>30</td>\n",
       "      <td>Göteborgs stad, Yrgo</td>\n",
       "      <td>Göteborg</td>\n",
       "      <td>.</td>\n",
       "      <td>.</td>\n",
       "      <td>.</td>\n",
       "      <td>.</td>\n",
       "      <td>.</td>\n",
       "      <td>...</td>\n",
       "      <td>NaN</td>\n",
       "      <td>NaN</td>\n",
       "      <td>NaN</td>\n",
       "      <td>NaN</td>\n",
       "      <td>NaN</td>\n",
       "      <td>NaN</td>\n",
       "      <td>NaN</td>\n",
       "      <td>NaN</td>\n",
       "      <td>NaN</td>\n",
       "      <td>NaN</td>\n",
       "    </tr>\n",
       "    <tr>\n",
       "      <th>...</th>\n",
       "      <td>...</td>\n",
       "      <td>...</td>\n",
       "      <td>...</td>\n",
       "      <td>...</td>\n",
       "      <td>...</td>\n",
       "      <td>...</td>\n",
       "      <td>...</td>\n",
       "      <td>...</td>\n",
       "      <td>...</td>\n",
       "      <td>...</td>\n",
       "      <td>...</td>\n",
       "      <td>...</td>\n",
       "      <td>...</td>\n",
       "      <td>...</td>\n",
       "      <td>...</td>\n",
       "      <td>...</td>\n",
       "      <td>...</td>\n",
       "      <td>...</td>\n",
       "      <td>...</td>\n",
       "      <td>...</td>\n",
       "      <td>...</td>\n",
       "    </tr>\n",
       "    <tr>\n",
       "      <th>1960</th>\n",
       "      <td>Data/IT</td>\n",
       "      <td>Data Analytics</td>\n",
       "      <td>55</td>\n",
       "      <td>NaN</td>\n",
       "      <td>NaN</td>\n",
       "      <td>NaN</td>\n",
       "      <td>NaN</td>\n",
       "      <td>NaN</td>\n",
       "      <td>NaN</td>\n",
       "      <td>NaN</td>\n",
       "      <td>...</td>\n",
       "      <td>Stockholm</td>\n",
       "      <td>1.0</td>\n",
       "      <td>1.0</td>\n",
       "      <td>1.0</td>\n",
       "      <td>Beviljad</td>\n",
       "      <td>NaN</td>\n",
       "      <td>NaN</td>\n",
       "      <td>50.0</td>\n",
       "      <td>0.0</td>\n",
       "      <td>50.0</td>\n",
       "    </tr>\n",
       "    <tr>\n",
       "      <th>1961</th>\n",
       "      <td>Teknik och tillverkning</td>\n",
       "      <td>Solteknik- installation, säkerhet och regelverk</td>\n",
       "      <td>60</td>\n",
       "      <td>NaN</td>\n",
       "      <td>NaN</td>\n",
       "      <td>NaN</td>\n",
       "      <td>NaN</td>\n",
       "      <td>NaN</td>\n",
       "      <td>NaN</td>\n",
       "      <td>NaN</td>\n",
       "      <td>...</td>\n",
       "      <td>Nyköping-Oxelösund</td>\n",
       "      <td>1.0</td>\n",
       "      <td>1.0</td>\n",
       "      <td>1.0</td>\n",
       "      <td>Avslag</td>\n",
       "      <td>NaN</td>\n",
       "      <td>NaN</td>\n",
       "      <td>0.0</td>\n",
       "      <td>0.0</td>\n",
       "      <td>0.0</td>\n",
       "    </tr>\n",
       "    <tr>\n",
       "      <th>1962</th>\n",
       "      <td>Säkerhetstjänster</td>\n",
       "      <td>Säkerhetsprojektering- brand-, inbrott-, kamer...</td>\n",
       "      <td>95</td>\n",
       "      <td>NaN</td>\n",
       "      <td>NaN</td>\n",
       "      <td>NaN</td>\n",
       "      <td>NaN</td>\n",
       "      <td>NaN</td>\n",
       "      <td>NaN</td>\n",
       "      <td>NaN</td>\n",
       "      <td>...</td>\n",
       "      <td>Nyköping-Oxelösund</td>\n",
       "      <td>1.0</td>\n",
       "      <td>1.0</td>\n",
       "      <td>1.0</td>\n",
       "      <td>Avslag</td>\n",
       "      <td>NaN</td>\n",
       "      <td>NaN</td>\n",
       "      <td>0.0</td>\n",
       "      <td>0.0</td>\n",
       "      <td>0.0</td>\n",
       "    </tr>\n",
       "    <tr>\n",
       "      <th>1963</th>\n",
       "      <td>Lantbruk, djurvård, trädgård, skog och fiske</td>\n",
       "      <td>Hälsofrämjande och pedagogiska insatser med häst</td>\n",
       "      <td>50</td>\n",
       "      <td>NaN</td>\n",
       "      <td>NaN</td>\n",
       "      <td>NaN</td>\n",
       "      <td>NaN</td>\n",
       "      <td>NaN</td>\n",
       "      <td>NaN</td>\n",
       "      <td>NaN</td>\n",
       "      <td>...</td>\n",
       "      <td>Nyköping-Oxelösund</td>\n",
       "      <td>1.0</td>\n",
       "      <td>1.0</td>\n",
       "      <td>1.0</td>\n",
       "      <td>Beviljad</td>\n",
       "      <td>NaN</td>\n",
       "      <td>NaN</td>\n",
       "      <td>24.0</td>\n",
       "      <td>0.0</td>\n",
       "      <td>0.0</td>\n",
       "    </tr>\n",
       "    <tr>\n",
       "      <th>1964</th>\n",
       "      <td>Data/IT</td>\n",
       "      <td>Futuregames Accessible Game Design</td>\n",
       "      <td>25</td>\n",
       "      <td>NaN</td>\n",
       "      <td>NaN</td>\n",
       "      <td>NaN</td>\n",
       "      <td>NaN</td>\n",
       "      <td>NaN</td>\n",
       "      <td>NaN</td>\n",
       "      <td>NaN</td>\n",
       "      <td>...</td>\n",
       "      <td>Se \"Lista flera kommuner\"</td>\n",
       "      <td>3.0</td>\n",
       "      <td>3.0</td>\n",
       "      <td>3.0</td>\n",
       "      <td>Avslag</td>\n",
       "      <td>NaN</td>\n",
       "      <td>NaN</td>\n",
       "      <td>0.0</td>\n",
       "      <td>0.0</td>\n",
       "      <td>0.0</td>\n",
       "    </tr>\n",
       "  </tbody>\n",
       "</table>\n",
       "<p>1965 rows × 33 columns</p>\n",
       "</div>"
      ],
      "text/plain": [
       "                                 Utbildningsområde  \\\n",
       "0                                          Data/IT   \n",
       "1                                          Data/IT   \n",
       "2                                          Data/IT   \n",
       "3                                          Data/IT   \n",
       "4                                          Data/IT   \n",
       "...                                            ...   \n",
       "1960                                       Data/IT   \n",
       "1961                       Teknik och tillverkning   \n",
       "1962                             Säkerhetstjänster   \n",
       "1963  Lantbruk, djurvård, trädgård, skog och fiske   \n",
       "1964                                       Data/IT   \n",
       "\n",
       "                                        Utbildningsnamn  YH-poäng  \\\n",
       "0     Affärsinriktad IT-Servicemanager med kompetens...        50   \n",
       "1                               Agil förändringsledning        30   \n",
       "2           Agila arbetsmetoder & DevOps för utvecklare        40   \n",
       "3                                  Agile Project Leader        60   \n",
       "4                AI för effektiv digital marknadsföring        30   \n",
       "...                                                 ...       ...   \n",
       "1960                                     Data Analytics        55   \n",
       "1961    Solteknik- installation, säkerhet och regelverk        60   \n",
       "1962  Säkerhetsprojektering- brand-, inbrott-, kamer...        95   \n",
       "1963   Hälsofrämjande och pedagogiska insatser med häst        50   \n",
       "1964                 Futuregames Accessible Game Design        25   \n",
       "\n",
       "                                              Anordnare   Kommun 1 Kommun 2  \\\n",
       "0     Folkuniversitetet - Stiftelsen Kursverksamhete...    Uppsala        .   \n",
       "1                          IHM Business School AB Malmö      Malmö        .   \n",
       "2                                  Lernia Utbildning AB      Malmö        .   \n",
       "3                             Changemaker Educations AB  Stockholm    Boden   \n",
       "4                                  Göteborgs stad, Yrgo   Göteborg        .   \n",
       "...                                                 ...        ...      ...   \n",
       "1960                                                NaN        NaN      NaN   \n",
       "1961                                                NaN        NaN      NaN   \n",
       "1962                                                NaN        NaN      NaN   \n",
       "1963                                                NaN        NaN      NaN   \n",
       "1964                                                NaN        NaN      NaN   \n",
       "\n",
       "        Kommun 3  Kommun 4 Kommun 5 Kommun 6  ...                  FA-region  \\\n",
       "0              .         .        .        .  ...                        NaN   \n",
       "1              .         .        .        .  ...                        NaN   \n",
       "2              .         .        .        .  ...                        NaN   \n",
       "3     Skellefteå  Karlstad        .        .  ...                        NaN   \n",
       "4              .         .        .        .  ...                        NaN   \n",
       "...          ...       ...      ...      ...  ...                        ...   \n",
       "1960         NaN       NaN      NaN      NaN  ...                  Stockholm   \n",
       "1961         NaN       NaN      NaN      NaN  ...         Nyköping-Oxelösund   \n",
       "1962         NaN       NaN      NaN      NaN  ...         Nyköping-Oxelösund   \n",
       "1963         NaN       NaN      NaN      NaN  ...         Nyköping-Oxelösund   \n",
       "1964         NaN       NaN      NaN      NaN  ...  Se \"Lista flera kommuner\"   \n",
       "\n",
       "     Antal kommuner Antal län Antal FA-regioner    Beslut  \\\n",
       "0               NaN       NaN               NaN       NaN   \n",
       "1               NaN       NaN               NaN       NaN   \n",
       "2               NaN       NaN               NaN       NaN   \n",
       "3               NaN       NaN               NaN       NaN   \n",
       "4               NaN       NaN               NaN       NaN   \n",
       "...             ...       ...               ...       ...   \n",
       "1960            1.0       1.0               1.0  Beviljad   \n",
       "1961            1.0       1.0               1.0    Avslag   \n",
       "1962            1.0       1.0               1.0    Avslag   \n",
       "1963            1.0       1.0               1.0  Beviljad   \n",
       "1964            3.0       3.0               3.0    Avslag   \n",
       "\n",
       "     Antal beviljade platser 2023 Antal beviljade platser 2024  \\\n",
       "0                             NaN                          NaN   \n",
       "1                             NaN                          NaN   \n",
       "2                             NaN                          NaN   \n",
       "3                             NaN                          NaN   \n",
       "4                             NaN                          NaN   \n",
       "...                           ...                          ...   \n",
       "1960                          NaN                          NaN   \n",
       "1961                          NaN                          NaN   \n",
       "1962                          NaN                          NaN   \n",
       "1963                          NaN                          NaN   \n",
       "1964                          NaN                          NaN   \n",
       "\n",
       "     Antal beviljade platser start 2024  \\\n",
       "0                                   NaN   \n",
       "1                                   NaN   \n",
       "2                                   NaN   \n",
       "3                                   NaN   \n",
       "4                                   NaN   \n",
       "...                                 ...   \n",
       "1960                               50.0   \n",
       "1961                                0.0   \n",
       "1962                                0.0   \n",
       "1963                               24.0   \n",
       "1964                                0.0   \n",
       "\n",
       "      Antal beviljade platser start och slut 2024  \\\n",
       "0                                             NaN   \n",
       "1                                             NaN   \n",
       "2                                             NaN   \n",
       "3                                             NaN   \n",
       "4                                             NaN   \n",
       "...                                           ...   \n",
       "1960                                          0.0   \n",
       "1961                                          0.0   \n",
       "1962                                          0.0   \n",
       "1963                                          0.0   \n",
       "1964                                          0.0   \n",
       "\n",
       "      Antal beviljade platser start 2025  \n",
       "0                                    NaN  \n",
       "1                                    NaN  \n",
       "2                                    NaN  \n",
       "3                                    NaN  \n",
       "4                                    NaN  \n",
       "...                                  ...  \n",
       "1960                                50.0  \n",
       "1961                                 0.0  \n",
       "1962                                 0.0  \n",
       "1963                                 0.0  \n",
       "1964                                 0.0  \n",
       "\n",
       "[1965 rows x 33 columns]"
      ]
     },
     "execution_count": 5,
     "metadata": {},
     "output_type": "execute_result"
    }
   ],
   "source": [
    "beviljade_df"
   ]
  },
  {
   "cell_type": "markdown",
   "id": "65eadfd9",
   "metadata": {},
   "source": [
    "## ansökningar år 2021 - 2025"
   ]
  },
  {
   "cell_type": "code",
   "execution_count": 6,
   "id": "4a0f6392",
   "metadata": {},
   "outputs": [
    {
     "data": {
      "text/html": [
       "<div>\n",
       "<style scoped>\n",
       "    .dataframe tbody tr th:only-of-type {\n",
       "        vertical-align: middle;\n",
       "    }\n",
       "\n",
       "    .dataframe tbody tr th {\n",
       "        vertical-align: top;\n",
       "    }\n",
       "\n",
       "    .dataframe thead th {\n",
       "        text-align: right;\n",
       "    }\n",
       "</style>\n",
       "<table border=\"1\" class=\"dataframe\">\n",
       "  <thead>\n",
       "    <tr style=\"text-align: right;\">\n",
       "      <th></th>\n",
       "      <th>Sökt antal  platser 2021</th>\n",
       "      <th>Sökt antal platser 2022</th>\n",
       "      <th>YH-poäng</th>\n",
       "      <th>Antal kommuner</th>\n",
       "      <th>Antal län</th>\n",
       "      <th>Antal FA-regioner</th>\n",
       "      <th>Sökt antal platser 2023</th>\n",
       "      <th>Sökt antal platser 2024</th>\n",
       "      <th>Sökt antal platser 2024 (start och avslut 2024)</th>\n",
       "      <th>Sökt antal platser 2025</th>\n",
       "    </tr>\n",
       "  </thead>\n",
       "  <tbody>\n",
       "    <tr>\n",
       "      <th>count</th>\n",
       "      <td>667.000000</td>\n",
       "      <td>667.000000</td>\n",
       "      <td>2069.000000</td>\n",
       "      <td>2069.000000</td>\n",
       "      <td>2069.000000</td>\n",
       "      <td>2069.000000</td>\n",
       "      <td>521.000000</td>\n",
       "      <td>1402.000000</td>\n",
       "      <td>881.000000</td>\n",
       "      <td>881.000000</td>\n",
       "    </tr>\n",
       "    <tr>\n",
       "      <th>mean</th>\n",
       "      <td>31.601199</td>\n",
       "      <td>61.794603</td>\n",
       "      <td>42.965684</td>\n",
       "      <td>1.386177</td>\n",
       "      <td>1.345094</td>\n",
       "      <td>1.347028</td>\n",
       "      <td>28.994242</td>\n",
       "      <td>36.803852</td>\n",
       "      <td>20.104427</td>\n",
       "      <td>38.095346</td>\n",
       "    </tr>\n",
       "    <tr>\n",
       "      <th>std</th>\n",
       "      <td>17.714957</td>\n",
       "      <td>37.855043</td>\n",
       "      <td>21.347368</td>\n",
       "      <td>0.912636</td>\n",
       "      <td>0.873421</td>\n",
       "      <td>0.874315</td>\n",
       "      <td>15.124164</td>\n",
       "      <td>19.860704</td>\n",
       "      <td>19.483221</td>\n",
       "      <td>20.070670</td>\n",
       "    </tr>\n",
       "    <tr>\n",
       "      <th>min</th>\n",
       "      <td>0.000000</td>\n",
       "      <td>0.000000</td>\n",
       "      <td>5.000000</td>\n",
       "      <td>1.000000</td>\n",
       "      <td>1.000000</td>\n",
       "      <td>1.000000</td>\n",
       "      <td>0.000000</td>\n",
       "      <td>0.000000</td>\n",
       "      <td>0.000000</td>\n",
       "      <td>0.000000</td>\n",
       "    </tr>\n",
       "    <tr>\n",
       "      <th>25%</th>\n",
       "      <td>25.000000</td>\n",
       "      <td>35.000000</td>\n",
       "      <td>30.000000</td>\n",
       "      <td>1.000000</td>\n",
       "      <td>1.000000</td>\n",
       "      <td>1.000000</td>\n",
       "      <td>25.000000</td>\n",
       "      <td>30.000000</td>\n",
       "      <td>0.000000</td>\n",
       "      <td>30.000000</td>\n",
       "    </tr>\n",
       "    <tr>\n",
       "      <th>50%</th>\n",
       "      <td>30.000000</td>\n",
       "      <td>60.000000</td>\n",
       "      <td>40.000000</td>\n",
       "      <td>1.000000</td>\n",
       "      <td>1.000000</td>\n",
       "      <td>1.000000</td>\n",
       "      <td>30.000000</td>\n",
       "      <td>35.000000</td>\n",
       "      <td>25.000000</td>\n",
       "      <td>35.000000</td>\n",
       "    </tr>\n",
       "    <tr>\n",
       "      <th>75%</th>\n",
       "      <td>35.000000</td>\n",
       "      <td>80.000000</td>\n",
       "      <td>50.000000</td>\n",
       "      <td>1.000000</td>\n",
       "      <td>1.000000</td>\n",
       "      <td>1.000000</td>\n",
       "      <td>35.000000</td>\n",
       "      <td>40.000000</td>\n",
       "      <td>35.000000</td>\n",
       "      <td>50.000000</td>\n",
       "    </tr>\n",
       "    <tr>\n",
       "      <th>max</th>\n",
       "      <td>175.000000</td>\n",
       "      <td>300.000000</td>\n",
       "      <td>99.000000</td>\n",
       "      <td>5.000000</td>\n",
       "      <td>5.000000</td>\n",
       "      <td>5.000000</td>\n",
       "      <td>100.000000</td>\n",
       "      <td>160.000000</td>\n",
       "      <td>100.000000</td>\n",
       "      <td>120.000000</td>\n",
       "    </tr>\n",
       "  </tbody>\n",
       "</table>\n",
       "</div>"
      ],
      "text/plain": [
       "       Sökt antal  platser 2021  Sökt antal platser 2022     YH-poäng  \\\n",
       "count                667.000000               667.000000  2069.000000   \n",
       "mean                  31.601199                61.794603    42.965684   \n",
       "std                   17.714957                37.855043    21.347368   \n",
       "min                    0.000000                 0.000000     5.000000   \n",
       "25%                   25.000000                35.000000    30.000000   \n",
       "50%                   30.000000                60.000000    40.000000   \n",
       "75%                   35.000000                80.000000    50.000000   \n",
       "max                  175.000000               300.000000    99.000000   \n",
       "\n",
       "       Antal kommuner    Antal län  Antal FA-regioner  \\\n",
       "count     2069.000000  2069.000000        2069.000000   \n",
       "mean         1.386177     1.345094           1.347028   \n",
       "std          0.912636     0.873421           0.874315   \n",
       "min          1.000000     1.000000           1.000000   \n",
       "25%          1.000000     1.000000           1.000000   \n",
       "50%          1.000000     1.000000           1.000000   \n",
       "75%          1.000000     1.000000           1.000000   \n",
       "max          5.000000     5.000000           5.000000   \n",
       "\n",
       "       Sökt antal platser 2023  Sökt antal platser 2024  \\\n",
       "count               521.000000              1402.000000   \n",
       "mean                 28.994242                36.803852   \n",
       "std                  15.124164                19.860704   \n",
       "min                   0.000000                 0.000000   \n",
       "25%                  25.000000                30.000000   \n",
       "50%                  30.000000                35.000000   \n",
       "75%                  35.000000                40.000000   \n",
       "max                 100.000000               160.000000   \n",
       "\n",
       "       Sökt antal platser 2024 (start och avslut 2024)  \\\n",
       "count                                       881.000000   \n",
       "mean                                         20.104427   \n",
       "std                                          19.483221   \n",
       "min                                           0.000000   \n",
       "25%                                           0.000000   \n",
       "50%                                          25.000000   \n",
       "75%                                          35.000000   \n",
       "max                                         100.000000   \n",
       "\n",
       "       Sökt antal platser 2025  \n",
       "count               881.000000  \n",
       "mean                 38.095346  \n",
       "std                  20.070670  \n",
       "min                   0.000000  \n",
       "25%                  30.000000  \n",
       "50%                  35.000000  \n",
       "75%                  50.000000  \n",
       "max                 120.000000  "
      ]
     },
     "execution_count": 6,
     "metadata": {},
     "output_type": "execute_result"
    }
   ],
   "source": [
    "ansokningar_df.describe()"
   ]
  },
  {
   "cell_type": "code",
   "execution_count": 7,
   "id": "091811d8",
   "metadata": {},
   "outputs": [
    {
     "data": {
      "text/plain": [
       "array(['Teknisk svenska inom bygg och anläggning.',\n",
       "       'Projektering och drift av solcellsanläggningar',\n",
       "       'Arbetsledare med digitalkompetens inom samhällsbyggnad', ...,\n",
       "       'Säkerhetsprojektering- brand-, inbrott-, kamera- och passageanläggningar',\n",
       "       'Hälsofrämjande och pedagogiska insatser med häst',\n",
       "       'Futuregames Accessible Game Design'], shape=(1629,), dtype=object)"
      ]
     },
     "execution_count": 7,
     "metadata": {},
     "output_type": "execute_result"
    }
   ],
   "source": [
    "ansokningar_df[\"Utbildningsnamn\"].unique()"
   ]
  },
  {
   "cell_type": "code",
   "execution_count": 8,
   "id": "74915093",
   "metadata": {},
   "outputs": [
    {
     "name": "stdout",
     "output_type": "stream",
     "text": [
      "['Diarienummer', 'Anordnare namn', 'Utbildningsnamn', 'Utbildningsområde', 'Sökt antal  platser 2021', 'Sökt antal platser 2022', 'YH-poäng', 'Kommun', 'Län', 'FA-region', 'Antal kommuner', 'Antal län', 'Antal FA-regioner', 'Sökt utbildningsområde', 'Sökt antal platser 2023', 'Sökt antal platser 2024', 'Sökt antal platser 2024 (start och avslut 2024)', 'Sökt antal platser 2025']\n"
     ]
    }
   ],
   "source": [
    "\n",
    "print(ansokningar_df.columns.to_list())\n"
   ]
  },
  {
   "cell_type": "code",
   "execution_count": 9,
   "id": "e353d21e",
   "metadata": {},
   "outputs": [],
   "source": [
    "ansokningar_df.columns = ansokningar_df.columns.str.strip()\n"
   ]
  },
  {
   "cell_type": "code",
   "execution_count": 10,
   "id": "2c10d7ff",
   "metadata": {},
   "outputs": [
    {
     "name": "stdout",
     "output_type": "stream",
     "text": [
      "                             Utbildningsnamn  Sökt antal  platser 2021  \\\n",
      "0                   Futuregames Game Engines                      60.0   \n",
      "1        Trafikplanering för en hållbar stad                      30.0   \n",
      "2            3D Clo Fördjupning Modedesigner                       0.0   \n",
      "3      3D Clo Fördjupning Mönsterkonstruktör                       0.0   \n",
      "4  3D Clo modedesign och mönsterkonstruktion                       0.0   \n",
      "\n",
      "   Sökt antal platser 2022  Sökt antal platser 2023  Sökt antal platser 2024  \\\n",
      "0                     80.0                      0.0                      0.0   \n",
      "1                     60.0                      0.0                      0.0   \n",
      "2                      0.0                      0.0                     25.0   \n",
      "3                      0.0                     25.0                     50.0   \n",
      "4                      0.0                     25.0                     75.0   \n",
      "\n",
      "   Sökt antal platser 2024 (start och avslut 2024)  Sökt antal platser 2025  \n",
      "0                                              0.0                      0.0  \n",
      "1                                              0.0                      0.0  \n",
      "2                                              0.0                     25.0  \n",
      "3                                             25.0                     25.0  \n",
      "4                                             25.0                     50.0  \n"
     ]
    }
   ],
   "source": [
    "# Lista med korrekta kolumnnamn (notera extra mellanslag i 'Sökt antal  platser 2021')\n",
    "platser_kolumner = [\n",
    "    \"Sökt antal  platser 2021\",\n",
    "    \"Sökt antal platser 2022\",\n",
    "    \"Sökt antal platser 2023\",\n",
    "    \"Sökt antal platser 2024\",\n",
    "    \"Sökt antal platser 2024 (start och avslut 2024)\",\n",
    "    \"Sökt antal platser 2025\"\n",
    "]\n",
    "\n",
    "# Filtrera och gruppera\n",
    "df_filtrerad = ansokningar_df[[\"Utbildningsnamn\"] + platser_kolumner]\n",
    "platser_per_kurs = df_filtrerad.groupby(\"Utbildningsnamn\").sum().reset_index()\n",
    "\n",
    "print(platser_per_kurs.head())\n"
   ]
  },
  {
   "cell_type": "code",
   "execution_count": 11,
   "id": "a3ca760d",
   "metadata": {},
   "outputs": [
    {
     "name": "stdout",
     "output_type": "stream",
     "text": [
      "Sökt antal  platser 2021                           21078.0\n",
      "Sökt antal platser 2022                            41217.0\n",
      "Sökt antal platser 2023                            15106.0\n",
      "Sökt antal platser 2024                            51599.0\n",
      "Sökt antal platser 2024 (start och avslut 2024)    17712.0\n",
      "Sökt antal platser 2025                            33562.0\n",
      "dtype: float64\n"
     ]
    }
   ],
   "source": [
    "platser_per_år = platser_per_kurs[platser_kolumner].sum()\n",
    "print(platser_per_år)\n"
   ]
  },
  {
   "cell_type": "code",
   "execution_count": 12,
   "id": "5456d050",
   "metadata": {},
   "outputs": [
    {
     "data": {
      "text/html": [
       "<div>\n",
       "<style scoped>\n",
       "    .dataframe tbody tr th:only-of-type {\n",
       "        vertical-align: middle;\n",
       "    }\n",
       "\n",
       "    .dataframe tbody tr th {\n",
       "        vertical-align: top;\n",
       "    }\n",
       "\n",
       "    .dataframe thead th {\n",
       "        text-align: right;\n",
       "    }\n",
       "</style>\n",
       "<table border=\"1\" class=\"dataframe\">\n",
       "  <thead>\n",
       "    <tr style=\"text-align: right;\">\n",
       "      <th></th>\n",
       "      <th>Utbildningsnamn</th>\n",
       "      <th>Sökt antal  platser 2021</th>\n",
       "      <th>Sökt antal platser 2022</th>\n",
       "      <th>Sökt antal platser 2023</th>\n",
       "      <th>Sökt antal platser 2024</th>\n",
       "      <th>Sökt antal platser 2024 (start och avslut 2024)</th>\n",
       "      <th>Sökt antal platser 2025</th>\n",
       "    </tr>\n",
       "  </thead>\n",
       "  <tbody>\n",
       "    <tr>\n",
       "      <th>1170</th>\n",
       "      <td>Palliativ vård</td>\n",
       "      <td>120.0</td>\n",
       "      <td>200.0</td>\n",
       "      <td>85.0</td>\n",
       "      <td>340.0</td>\n",
       "      <td>80.0</td>\n",
       "      <td>150.0</td>\n",
       "    </tr>\n",
       "    <tr>\n",
       "      <th>1606</th>\n",
       "      <td>Web Development with JavaScript and React</td>\n",
       "      <td>0.0</td>\n",
       "      <td>0.0</td>\n",
       "      <td>80.0</td>\n",
       "      <td>240.0</td>\n",
       "      <td>0.0</td>\n",
       "      <td>80.0</td>\n",
       "    </tr>\n",
       "    <tr>\n",
       "      <th>844</th>\n",
       "      <td>IT-säkerhet</td>\n",
       "      <td>40.0</td>\n",
       "      <td>110.0</td>\n",
       "      <td>30.0</td>\n",
       "      <td>230.0</td>\n",
       "      <td>90.0</td>\n",
       "      <td>100.0</td>\n",
       "    </tr>\n",
       "    <tr>\n",
       "      <th>1531</th>\n",
       "      <td>UX-writing</td>\n",
       "      <td>35.0</td>\n",
       "      <td>70.0</td>\n",
       "      <td>80.0</td>\n",
       "      <td>210.0</td>\n",
       "      <td>70.0</td>\n",
       "      <td>160.0</td>\n",
       "    </tr>\n",
       "    <tr>\n",
       "      <th>1459</th>\n",
       "      <td>Säkerhetsskyddssamordning</td>\n",
       "      <td>0.0</td>\n",
       "      <td>0.0</td>\n",
       "      <td>60.0</td>\n",
       "      <td>200.0</td>\n",
       "      <td>80.0</td>\n",
       "      <td>120.0</td>\n",
       "    </tr>\n",
       "  </tbody>\n",
       "</table>\n",
       "</div>"
      ],
      "text/plain": [
       "                                Utbildningsnamn  Sökt antal  platser 2021  \\\n",
       "1170                             Palliativ vård                     120.0   \n",
       "1606  Web Development with JavaScript and React                       0.0   \n",
       "844                                 IT-säkerhet                      40.0   \n",
       "1531                                 UX-writing                      35.0   \n",
       "1459                  Säkerhetsskyddssamordning                       0.0   \n",
       "\n",
       "      Sökt antal platser 2022  Sökt antal platser 2023  \\\n",
       "1170                    200.0                     85.0   \n",
       "1606                      0.0                     80.0   \n",
       "844                     110.0                     30.0   \n",
       "1531                     70.0                     80.0   \n",
       "1459                      0.0                     60.0   \n",
       "\n",
       "      Sökt antal platser 2024  \\\n",
       "1170                    340.0   \n",
       "1606                    240.0   \n",
       "844                     230.0   \n",
       "1531                    210.0   \n",
       "1459                    200.0   \n",
       "\n",
       "      Sökt antal platser 2024 (start och avslut 2024)  Sökt antal platser 2025  \n",
       "1170                                             80.0                    150.0  \n",
       "1606                                              0.0                     80.0  \n",
       "844                                              90.0                    100.0  \n",
       "1531                                             70.0                    160.0  \n",
       "1459                                             80.0                    120.0  "
      ]
     },
     "execution_count": 12,
     "metadata": {},
     "output_type": "execute_result"
    }
   ],
   "source": [
    "platser_per_kurs.sort_values(\"Sökt antal platser 2024\", ascending=False).head()\n"
   ]
  },
  {
   "cell_type": "code",
   "execution_count": 13,
   "id": "e96474f8",
   "metadata": {},
   "outputs": [
    {
     "name": "stdout",
     "output_type": "stream",
     "text": [
      "Antal unika kurser: 1629\n"
     ]
    }
   ],
   "source": [
    "print(\"Antal unika kurser:\", platser_per_kurs.shape[0])\n"
   ]
  },
  {
   "cell_type": "markdown",
   "id": "65a91f6a",
   "metadata": {},
   "source": [
    "## beviljade ansökningar år 2020 - 2025"
   ]
  },
  {
   "cell_type": "code",
   "execution_count": 14,
   "id": "253235ea",
   "metadata": {},
   "outputs": [
    {
     "data": {
      "text/html": [
       "<div>\n",
       "<style scoped>\n",
       "    .dataframe tbody tr th:only-of-type {\n",
       "        vertical-align: middle;\n",
       "    }\n",
       "\n",
       "    .dataframe tbody tr th {\n",
       "        vertical-align: top;\n",
       "    }\n",
       "\n",
       "    .dataframe thead th {\n",
       "        text-align: right;\n",
       "    }\n",
       "</style>\n",
       "<table border=\"1\" class=\"dataframe\">\n",
       "  <thead>\n",
       "    <tr style=\"text-align: right;\">\n",
       "      <th></th>\n",
       "      <th>YH-poäng</th>\n",
       "      <th>Platser med start och avslut 2020</th>\n",
       "      <th>Antal beviljade platser 2021</th>\n",
       "      <th>Antal beviljade platser 2022</th>\n",
       "      <th>Totalt antal beviljade platser</th>\n",
       "      <th>Antal kommuner</th>\n",
       "      <th>Antal län</th>\n",
       "      <th>Antal FA-regioner</th>\n",
       "      <th>Antal beviljade platser 2023</th>\n",
       "      <th>Antal beviljade platser 2024</th>\n",
       "      <th>Antal beviljade platser start 2024</th>\n",
       "      <th>Antal beviljade platser start och slut 2024</th>\n",
       "      <th>Antal beviljade platser start 2025</th>\n",
       "    </tr>\n",
       "  </thead>\n",
       "  <tbody>\n",
       "    <tr>\n",
       "      <th>count</th>\n",
       "      <td>1965.000000</td>\n",
       "      <td>214.000000</td>\n",
       "      <td>109.000000</td>\n",
       "      <td>591.00000</td>\n",
       "      <td>1751.000000</td>\n",
       "      <td>1751.000000</td>\n",
       "      <td>1751.000000</td>\n",
       "      <td>1751.000000</td>\n",
       "      <td>762.000000</td>\n",
       "      <td>280.000000</td>\n",
       "      <td>880.000000</td>\n",
       "      <td>880.000000</td>\n",
       "      <td>880.000000</td>\n",
       "    </tr>\n",
       "    <tr>\n",
       "      <th>mean</th>\n",
       "      <td>43.073791</td>\n",
       "      <td>34.186916</td>\n",
       "      <td>26.954128</td>\n",
       "      <td>16.14044</td>\n",
       "      <td>30.786979</td>\n",
       "      <td>1.358652</td>\n",
       "      <td>1.326670</td>\n",
       "      <td>1.330097</td>\n",
       "      <td>14.652231</td>\n",
       "      <td>22.525000</td>\n",
       "      <td>9.462500</td>\n",
       "      <td>8.592045</td>\n",
       "      <td>9.171591</td>\n",
       "    </tr>\n",
       "    <tr>\n",
       "      <th>std</th>\n",
       "      <td>20.840563</td>\n",
       "      <td>20.004756</td>\n",
       "      <td>12.578925</td>\n",
       "      <td>25.24065</td>\n",
       "      <td>38.936869</td>\n",
       "      <td>0.875301</td>\n",
       "      <td>0.840797</td>\n",
       "      <td>0.842175</td>\n",
       "      <td>25.034243</td>\n",
       "      <td>26.489318</td>\n",
       "      <td>17.835768</td>\n",
       "      <td>16.118678</td>\n",
       "      <td>17.092104</td>\n",
       "    </tr>\n",
       "    <tr>\n",
       "      <th>min</th>\n",
       "      <td>5.000000</td>\n",
       "      <td>10.000000</td>\n",
       "      <td>0.000000</td>\n",
       "      <td>0.00000</td>\n",
       "      <td>0.000000</td>\n",
       "      <td>1.000000</td>\n",
       "      <td>1.000000</td>\n",
       "      <td>1.000000</td>\n",
       "      <td>0.000000</td>\n",
       "      <td>0.000000</td>\n",
       "      <td>0.000000</td>\n",
       "      <td>0.000000</td>\n",
       "      <td>0.000000</td>\n",
       "    </tr>\n",
       "    <tr>\n",
       "      <th>25%</th>\n",
       "      <td>30.000000</td>\n",
       "      <td>25.000000</td>\n",
       "      <td>25.000000</td>\n",
       "      <td>0.00000</td>\n",
       "      <td>0.000000</td>\n",
       "      <td>1.000000</td>\n",
       "      <td>1.000000</td>\n",
       "      <td>1.000000</td>\n",
       "      <td>0.000000</td>\n",
       "      <td>0.000000</td>\n",
       "      <td>0.000000</td>\n",
       "      <td>0.000000</td>\n",
       "      <td>0.000000</td>\n",
       "    </tr>\n",
       "    <tr>\n",
       "      <th>50%</th>\n",
       "      <td>40.000000</td>\n",
       "      <td>30.000000</td>\n",
       "      <td>30.000000</td>\n",
       "      <td>0.00000</td>\n",
       "      <td>0.000000</td>\n",
       "      <td>1.000000</td>\n",
       "      <td>1.000000</td>\n",
       "      <td>1.000000</td>\n",
       "      <td>0.000000</td>\n",
       "      <td>0.000000</td>\n",
       "      <td>0.000000</td>\n",
       "      <td>0.000000</td>\n",
       "      <td>0.000000</td>\n",
       "    </tr>\n",
       "    <tr>\n",
       "      <th>75%</th>\n",
       "      <td>50.000000</td>\n",
       "      <td>35.000000</td>\n",
       "      <td>35.000000</td>\n",
       "      <td>30.00000</td>\n",
       "      <td>60.000000</td>\n",
       "      <td>1.000000</td>\n",
       "      <td>1.000000</td>\n",
       "      <td>1.000000</td>\n",
       "      <td>30.000000</td>\n",
       "      <td>40.000000</td>\n",
       "      <td>2.500000</td>\n",
       "      <td>4.750000</td>\n",
       "      <td>2.500000</td>\n",
       "    </tr>\n",
       "    <tr>\n",
       "      <th>max</th>\n",
       "      <td>99.000000</td>\n",
       "      <td>200.000000</td>\n",
       "      <td>70.000000</td>\n",
       "      <td>210.00000</td>\n",
       "      <td>280.000000</td>\n",
       "      <td>5.000000</td>\n",
       "      <td>5.000000</td>\n",
       "      <td>5.000000</td>\n",
       "      <td>120.000000</td>\n",
       "      <td>120.000000</td>\n",
       "      <td>100.000000</td>\n",
       "      <td>80.000000</td>\n",
       "      <td>80.000000</td>\n",
       "    </tr>\n",
       "  </tbody>\n",
       "</table>\n",
       "</div>"
      ],
      "text/plain": [
       "          YH-poäng  Platser med start och avslut 2020  \\\n",
       "count  1965.000000                         214.000000   \n",
       "mean     43.073791                          34.186916   \n",
       "std      20.840563                          20.004756   \n",
       "min       5.000000                          10.000000   \n",
       "25%      30.000000                          25.000000   \n",
       "50%      40.000000                          30.000000   \n",
       "75%      50.000000                          35.000000   \n",
       "max      99.000000                         200.000000   \n",
       "\n",
       "       Antal beviljade platser 2021  Antal beviljade platser 2022  \\\n",
       "count                    109.000000                     591.00000   \n",
       "mean                      26.954128                      16.14044   \n",
       "std                       12.578925                      25.24065   \n",
       "min                        0.000000                       0.00000   \n",
       "25%                       25.000000                       0.00000   \n",
       "50%                       30.000000                       0.00000   \n",
       "75%                       35.000000                      30.00000   \n",
       "max                       70.000000                     210.00000   \n",
       "\n",
       "       Totalt antal beviljade platser  Antal kommuner    Antal län  \\\n",
       "count                     1751.000000     1751.000000  1751.000000   \n",
       "mean                        30.786979        1.358652     1.326670   \n",
       "std                         38.936869        0.875301     0.840797   \n",
       "min                          0.000000        1.000000     1.000000   \n",
       "25%                          0.000000        1.000000     1.000000   \n",
       "50%                          0.000000        1.000000     1.000000   \n",
       "75%                         60.000000        1.000000     1.000000   \n",
       "max                        280.000000        5.000000     5.000000   \n",
       "\n",
       "       Antal FA-regioner  Antal beviljade platser 2023  \\\n",
       "count        1751.000000                    762.000000   \n",
       "mean            1.330097                     14.652231   \n",
       "std             0.842175                     25.034243   \n",
       "min             1.000000                      0.000000   \n",
       "25%             1.000000                      0.000000   \n",
       "50%             1.000000                      0.000000   \n",
       "75%             1.000000                     30.000000   \n",
       "max             5.000000                    120.000000   \n",
       "\n",
       "       Antal beviljade platser 2024  Antal beviljade platser start 2024  \\\n",
       "count                    280.000000                          880.000000   \n",
       "mean                      22.525000                            9.462500   \n",
       "std                       26.489318                           17.835768   \n",
       "min                        0.000000                            0.000000   \n",
       "25%                        0.000000                            0.000000   \n",
       "50%                        0.000000                            0.000000   \n",
       "75%                       40.000000                            2.500000   \n",
       "max                      120.000000                          100.000000   \n",
       "\n",
       "       Antal beviljade platser start och slut 2024  \\\n",
       "count                                   880.000000   \n",
       "mean                                      8.592045   \n",
       "std                                      16.118678   \n",
       "min                                       0.000000   \n",
       "25%                                       0.000000   \n",
       "50%                                       0.000000   \n",
       "75%                                       4.750000   \n",
       "max                                      80.000000   \n",
       "\n",
       "       Antal beviljade platser start 2025  \n",
       "count                          880.000000  \n",
       "mean                             9.171591  \n",
       "std                             17.092104  \n",
       "min                              0.000000  \n",
       "25%                              0.000000  \n",
       "50%                              0.000000  \n",
       "75%                              2.500000  \n",
       "max                             80.000000  "
      ]
     },
     "execution_count": 14,
     "metadata": {},
     "output_type": "execute_result"
    }
   ],
   "source": [
    "beviljade_df.describe()"
   ]
  },
  {
   "cell_type": "code",
   "execution_count": 15,
   "id": "d263277e",
   "metadata": {},
   "outputs": [
    {
     "name": "stdout",
     "output_type": "stream",
     "text": [
      "['Utbildningsområde', 'Utbildningsnamn', 'YH-poäng', 'Anordnare', 'Kommun 1', 'Kommun 2', 'Kommun 3', 'Kommun 4', 'Kommun 5', 'Kommun 6', 'Kommun 7', 'Kommun 8', 'Kommun 9', 'Kommun 10', 'Platser med start och avslut 2020', 'Utbildningsnummer', 'Diarienummer', 'Anordnare namn', 'Antal beviljade platser 2021', 'Antal beviljade platser 2022', 'Totalt antal beviljade platser', 'Kommun', 'Län', 'FA-region', 'Antal kommuner', 'Antal län', 'Antal FA-regioner', 'Beslut', 'Antal beviljade platser 2023', 'Antal beviljade platser 2024', 'Antal beviljade platser start 2024', 'Antal beviljade platser start och slut 2024', 'Antal beviljade platser start 2025']\n"
     ]
    }
   ],
   "source": [
    "print(beviljade_df.columns.to_list())"
   ]
  },
  {
   "cell_type": "code",
   "execution_count": 16,
   "id": "a76a6e70",
   "metadata": {},
   "outputs": [
    {
     "name": "stdout",
     "output_type": "stream",
     "text": [
      "                             Utbildningsnamn  Antal beviljade platser 2021  \\\n",
      "0                                Grön vätgas                           0.0   \n",
      "1          .Net-programmering - Azure DevOps                           0.0   \n",
      "2            3D Clo Fördjupning Modedesigner                           0.0   \n",
      "3      3D Clo Fördjupning Mönsterkonstruktör                           0.0   \n",
      "4  3D Clo Modedesign och Mönsterkonstruktion                           0.0   \n",
      "\n",
      "   Antal beviljade platser 2022  Antal beviljade platser 2023  \\\n",
      "0                           0.0                           0.0   \n",
      "1                           0.0                           0.0   \n",
      "2                           0.0                           0.0   \n",
      "3                           0.0                          25.0   \n",
      "4                           0.0                           0.0   \n",
      "\n",
      "   Antal beviljade platser 2024  Antal beviljade platser start 2024  \\\n",
      "0                           0.0                                 0.0   \n",
      "1                           0.0                                 0.0   \n",
      "2                          25.0                                 0.0   \n",
      "3                          25.0                                 0.0   \n",
      "4                           0.0                                 0.0   \n",
      "\n",
      "   Antal beviljade platser start och slut 2024  \\\n",
      "0                                          0.0   \n",
      "1                                          0.0   \n",
      "2                                          0.0   \n",
      "3                                         25.0   \n",
      "4                                          0.0   \n",
      "\n",
      "   Antal beviljade platser start 2025  \n",
      "0                                 0.0  \n",
      "1                                 0.0  \n",
      "2                                 0.0  \n",
      "3                                 0.0  \n",
      "4                                 0.0  \n"
     ]
    }
   ],
   "source": [
    "# Lista med kolumner för beviljade platser per år\n",
    "beviljade_kolumner = [\n",
    "    'Antal beviljade platser 2021',\n",
    "    'Antal beviljade platser 2022',\n",
    "    'Antal beviljade platser 2023',\n",
    "    'Antal beviljade platser 2024',\n",
    "    'Antal beviljade platser start 2024',\n",
    "    'Antal beviljade platser start och slut 2024',\n",
    "    'Antal beviljade platser start 2025'\n",
    "]\n",
    "\n",
    "# Välj kursnamn och beviljade platser-kolumner\n",
    "df_beviljade_filtrerad = beviljade_df[['Utbildningsnamn'] + beviljade_kolumner]\n",
    "\n",
    "# Gruppera på kursnamn och summera antalet beviljade platser per år\n",
    "beviljade_per_kurs = df_beviljade_filtrerad.groupby('Utbildningsnamn').sum().reset_index()\n",
    "\n",
    "# Visa några rader av resultatet\n",
    "print(beviljade_per_kurs.head())\n"
   ]
  },
  {
   "cell_type": "code",
   "execution_count": 17,
   "id": "df0539bd",
   "metadata": {},
   "outputs": [
    {
     "name": "stdout",
     "output_type": "stream",
     "text": [
      "Antal beviljade platser 2021                    2938.0\n",
      "Antal beviljade platser 2022                    9539.0\n",
      "Antal beviljade platser 2023                   11165.0\n",
      "Antal beviljade platser 2024                    6307.0\n",
      "Antal beviljade platser start 2024              8327.0\n",
      "Antal beviljade platser start och slut 2024     7561.0\n",
      "Antal beviljade platser start 2025              8071.0\n",
      "dtype: float64\n"
     ]
    }
   ],
   "source": [
    "print(beviljade_per_kurs[beviljade_kolumner].sum())\n"
   ]
  },
  {
   "cell_type": "code",
   "execution_count": 18,
   "id": "75a874a5",
   "metadata": {},
   "outputs": [],
   "source": [
    "for col in beviljade_kolumner:\n",
    "    beviljade_df[col] = pd.to_numeric(beviljade_df[col], errors='coerce')\n"
   ]
  },
  {
   "cell_type": "code",
   "execution_count": 19,
   "id": "f2551ed3",
   "metadata": {},
   "outputs": [],
   "source": [
    "beviljade_df.columns = beviljade_df.columns.str.strip()"
   ]
  },
  {
   "cell_type": "code",
   "execution_count": 20,
   "id": "235c5df8",
   "metadata": {},
   "outputs": [],
   "source": [
    "beviljade_df.columns = beviljade_df.columns.str.replace(r\"\\s+\", \" \", regex=True)\n"
   ]
  },
  {
   "cell_type": "code",
   "execution_count": 21,
   "id": "f6ae3bb8",
   "metadata": {},
   "outputs": [
    {
     "name": "stdout",
     "output_type": "stream",
     "text": [
      "['Utbildningsområde', 'Utbildningsnamn', 'YH-poäng', 'Anordnare', 'Kommun 1', 'Kommun 2', 'Kommun 3', 'Kommun 4', 'Kommun 5', 'Kommun 6', 'Kommun 7', 'Kommun 8', 'Kommun 9', 'Kommun 10', 'Platser med start och avslut 2020', 'Utbildningsnummer', 'Diarienummer', 'Anordnare namn', 'Antal beviljade platser 2021', 'Antal beviljade platser 2022', 'Totalt antal beviljade platser', 'Kommun', 'Län', 'FA-region', 'Antal kommuner', 'Antal län', 'Antal FA-regioner', 'Beslut', 'Antal beviljade platser 2023', 'Antal beviljade platser 2024', 'Antal beviljade platser start 2024', 'Antal beviljade platser start och slut 2024', 'Antal beviljade platser start 2025']\n"
     ]
    }
   ],
   "source": [
    "print(beviljade_df.columns.tolist())\n"
   ]
  },
  {
   "cell_type": "code",
   "execution_count": 22,
   "id": "af8c06da",
   "metadata": {},
   "outputs": [
    {
     "name": "stdout",
     "output_type": "stream",
     "text": [
      "[nan 35. 30. 40.  0. 15. 25. 45.  8. 70. 22. 20. 28. 33. 10. 50.]\n"
     ]
    }
   ],
   "source": [
    "print(beviljade_df[\"Antal beviljade platser 2021\"].unique())\n"
   ]
  },
  {
   "cell_type": "code",
   "execution_count": 23,
   "id": "4b2bccd0",
   "metadata": {},
   "outputs": [
    {
     "name": "stdout",
     "output_type": "stream",
     "text": [
      "                                     Utbildningsnamn  \\\n",
      "0  Affärsinriktad IT-Servicemanager med kompetens...   \n",
      "1                            Agil förändringsledning   \n",
      "2        Agila arbetsmetoder & DevOps för utvecklare   \n",
      "3                               Agile Project Leader   \n",
      "4             AI för effektiv digital marknadsföring   \n",
      "5                   Användarcentrerad design inom UX   \n",
      "6                                DevOps Fundamentals   \n",
      "7                                 Frontend Developer   \n",
      "8  Grön IT – strategier för hållbara lösningar in...   \n",
      "9                               Javascriptutveckling   \n",
      "\n",
      "  Antal beviljade platser 2021 status Antal beviljade platser 2022 status  \\\n",
      "0                         ej beviljad                         ej beviljad   \n",
      "1                         ej beviljad                         ej beviljad   \n",
      "2                         ej beviljad                         ej beviljad   \n",
      "3                         ej beviljad                         ej beviljad   \n",
      "4                         ej beviljad                         ej beviljad   \n",
      "5                         ej beviljad                         ej beviljad   \n",
      "6                         ej beviljad                         ej beviljad   \n",
      "7                         ej beviljad                         ej beviljad   \n",
      "8                         ej beviljad                         ej beviljad   \n",
      "9                         ej beviljad                         ej beviljad   \n",
      "\n",
      "  Antal beviljade platser 2023 status Antal beviljade platser 2024 status  \\\n",
      "0                         ej beviljad                         ej beviljad   \n",
      "1                         ej beviljad                         ej beviljad   \n",
      "2                         ej beviljad                         ej beviljad   \n",
      "3                         ej beviljad                         ej beviljad   \n",
      "4                         ej beviljad                         ej beviljad   \n",
      "5                         ej beviljad                         ej beviljad   \n",
      "6                         ej beviljad                         ej beviljad   \n",
      "7                         ej beviljad                         ej beviljad   \n",
      "8                         ej beviljad                         ej beviljad   \n",
      "9                         ej beviljad                         ej beviljad   \n",
      "\n",
      "  Antal beviljade platser start 2024 status  \\\n",
      "0                               ej beviljad   \n",
      "1                               ej beviljad   \n",
      "2                               ej beviljad   \n",
      "3                               ej beviljad   \n",
      "4                               ej beviljad   \n",
      "5                               ej beviljad   \n",
      "6                               ej beviljad   \n",
      "7                               ej beviljad   \n",
      "8                               ej beviljad   \n",
      "9                               ej beviljad   \n",
      "\n",
      "  Antal beviljade platser start och slut 2024 status  \\\n",
      "0                                        ej beviljad   \n",
      "1                                        ej beviljad   \n",
      "2                                        ej beviljad   \n",
      "3                                        ej beviljad   \n",
      "4                                        ej beviljad   \n",
      "5                                        ej beviljad   \n",
      "6                                        ej beviljad   \n",
      "7                                        ej beviljad   \n",
      "8                                        ej beviljad   \n",
      "9                                        ej beviljad   \n",
      "\n",
      "  Antal beviljade platser start 2025 status  \n",
      "0                               ej beviljad  \n",
      "1                               ej beviljad  \n",
      "2                               ej beviljad  \n",
      "3                               ej beviljad  \n",
      "4                               ej beviljad  \n",
      "5                               ej beviljad  \n",
      "6                               ej beviljad  \n",
      "7                               ej beviljad  \n",
      "8                               ej beviljad  \n",
      "9                               ej beviljad  \n",
      "Antal beviljade platser 2021: dtype = float64, unique values = [35. 30. 40.  0. 15. 25. 45.  8. 70. 22. 20. 28. 33. 10. 50.]\n",
      "Antal beviljade platser 2022: dtype = float64, unique values = [ 35.  60.  30.  80.  70.  25.  90. 100.  18. 210.  20.  45.  50.  40.\n",
      "  28. 120.   0.  10.  15.  33.  55.]\n",
      "Antal beviljade platser 2023: dtype = float64, unique values = [  0.  60.  80.  70.  50.  35.  90.  30.  40.  25.  15.  66. 100. 120.\n",
      "  20.  65.  45.   5.  55.  16.  28.  10.]\n",
      "Antal beviljade platser 2024: dtype = float64, unique values = [  0.  15.  40.  30.  50.  25.  35. 120. 100.  60.  70.  80.  55.  45.\n",
      "  24.  20.  28.]\n",
      "Antal beviljade platser start 2024: dtype = float64, unique values = [  0.  50.  55.  32.  45.  40.  25.  30.  20.  35.  70.  80.  60. 100.\n",
      "  15.  10.  24.]\n",
      "Antal beviljade platser start och slut 2024: dtype = float64, unique values = [ 0. 50. 70. 35. 30. 40. 60. 20. 32. 25. 48. 45. 15. 27. 80. 22. 28. 10.\n",
      "  3.]\n",
      "Antal beviljade platser start 2025: dtype = float64, unique values = [ 0. 50. 55. 32. 45. 40. 30. 25. 20. 35. 70. 15. 60. 80. 10. 18.]\n"
     ]
    }
   ],
   "source": [
    "beviljade_kolumner = [\n",
    "    \"Antal beviljade platser 2021\",\n",
    "    \"Antal beviljade platser 2022\",\n",
    "    \"Antal beviljade platser 2023\",\n",
    "    \"Antal beviljade platser 2024\",\n",
    "    \"Antal beviljade platser start 2024\",\n",
    "    \"Antal beviljade platser start och slut 2024\",\n",
    "    \"Antal beviljade platser start 2025\"\n",
    "]\n",
    "\n",
    "for col in beviljade_kolumner:\n",
    "    # Konvertera till numeriskt, ogiltiga värden blir NaN\n",
    "    beviljade_df[col] = pd.to_numeric(beviljade_df[col], errors='coerce')\n",
    "    \n",
    "    # Skapa status-kolumn där >0 = \"beviljad\", annars \"ej beviljad\"\n",
    "    beviljade_df[col + \" status\"] = beviljade_df[col].apply(\n",
    "        lambda x: \"beviljad\" if pd.notna(x) and x > 0 else \"ej beviljad\"\n",
    "    )\n",
    "\n",
    "# Visa några rader för att kontrollera\n",
    "print(beviljade_df[[\"Utbildningsnamn\"] + [col + \" status\" for col in beviljade_kolumner]].head(10))\n",
    "\n",
    "for col in beviljade_kolumner:\n",
    "    print(f\"{col}: dtype = {beviljade_df[col].dtype}, unique values = {beviljade_df[col].dropna().unique()}\")\n",
    "\n"
   ]
  },
  {
   "cell_type": "code",
   "execution_count": 24,
   "id": "b4e245bd",
   "metadata": {},
   "outputs": [
    {
     "name": "stdout",
     "output_type": "stream",
     "text": [
      "[nan, nan, nan, nan, nan, nan, nan, nan, nan, nan, nan, nan, nan, nan, nan, nan, nan, nan, nan, nan]\n",
      "['ej beviljad', 'ej beviljad', 'ej beviljad', 'ej beviljad', 'ej beviljad', 'ej beviljad', 'ej beviljad', 'ej beviljad', 'ej beviljad', 'ej beviljad', 'ej beviljad', 'ej beviljad', 'ej beviljad', 'ej beviljad', 'ej beviljad', 'ej beviljad', 'ej beviljad', 'ej beviljad', 'ej beviljad', 'ej beviljad']\n"
     ]
    }
   ],
   "source": [
    "test_series = beviljade_df[\"Antal beviljade platser 2021\"].head(20)\n",
    "print(test_series.tolist())\n",
    "print([(\"beviljad\" if (pd.notna(x) and x > 0) else \"ej beviljad\") for x in test_series])\n"
   ]
  },
  {
   "cell_type": "code",
   "execution_count": 25,
   "id": "b3a5de39",
   "metadata": {},
   "outputs": [
    {
     "name": "stdout",
     "output_type": "stream",
     "text": [
      "count    109.000000\n",
      "mean      26.954128\n",
      "std       12.578925\n",
      "min        0.000000\n",
      "25%       25.000000\n",
      "50%       30.000000\n",
      "75%       35.000000\n",
      "max       70.000000\n",
      "Name: Antal beviljade platser 2021, dtype: float64\n",
      "[nan 35. 30. 40.  0. 15. 25. 45.  8. 70. 22. 20. 28. 33. 10. 50.]\n"
     ]
    }
   ],
   "source": [
    "print(beviljade_df[\"Antal beviljade platser 2021\"].describe())\n",
    "print(beviljade_df[\"Antal beviljade platser 2021\"].unique())\n",
    "\n"
   ]
  },
  {
   "cell_type": "code",
   "execution_count": 26,
   "id": "c655962a",
   "metadata": {},
   "outputs": [
    {
     "name": "stdout",
     "output_type": "stream",
     "text": [
      "                             Utbildningsnamn  Antal beviljade platser 2021  \\\n",
      "0                                Grön vätgas                           0.0   \n",
      "1          .Net-programmering - Azure DevOps                           0.0   \n",
      "2            3D Clo Fördjupning Modedesigner                           0.0   \n",
      "3      3D Clo Fördjupning Mönsterkonstruktör                           0.0   \n",
      "4  3D Clo Modedesign och Mönsterkonstruktion                           0.0   \n",
      "\n",
      "   Antal beviljade platser 2022  Antal beviljade platser 2023  \\\n",
      "0                           0.0                           0.0   \n",
      "1                           0.0                           0.0   \n",
      "2                           0.0                           0.0   \n",
      "3                           0.0                          25.0   \n",
      "4                           0.0                           0.0   \n",
      "\n",
      "   Antal beviljade platser 2024  Antal beviljade platser start 2024  \\\n",
      "0                           0.0                                 0.0   \n",
      "1                           0.0                                 0.0   \n",
      "2                          25.0                                 0.0   \n",
      "3                          25.0                                 0.0   \n",
      "4                           0.0                                 0.0   \n",
      "\n",
      "   Antal beviljade platser start och slut 2024  \\\n",
      "0                                          0.0   \n",
      "1                                          0.0   \n",
      "2                                          0.0   \n",
      "3                                         25.0   \n",
      "4                                          0.0   \n",
      "\n",
      "   Antal beviljade platser start 2025  \n",
      "0                                 0.0  \n",
      "1                                 0.0  \n",
      "2                                 0.0  \n",
      "3                                 0.0  \n",
      "4                                 0.0  \n",
      "Antal beviljade platser 2021                    2938.0\n",
      "Antal beviljade platser 2022                    9539.0\n",
      "Antal beviljade platser 2023                   11165.0\n",
      "Antal beviljade platser 2024                    6307.0\n",
      "Antal beviljade platser start 2024              8327.0\n",
      "Antal beviljade platser start och slut 2024     7561.0\n",
      "Antal beviljade platser start 2025              8071.0\n",
      "dtype: float64\n"
     ]
    }
   ],
   "source": [
    "# Lista med kolumner för beviljade platser per år\n",
    "beviljade_kolumner = [\n",
    "    'Antal beviljade platser 2021',\n",
    "    'Antal beviljade platser 2022',\n",
    "    'Antal beviljade platser 2023',\n",
    "    'Antal beviljade platser 2024',\n",
    "    'Antal beviljade platser start 2024',\n",
    "    'Antal beviljade platser start och slut 2024',\n",
    "    'Antal beviljade platser start 2025'\n",
    "]\n",
    "\n",
    "# Filtrera ut kolumner som vi behöver\n",
    "df_beviljade_filtrerad = beviljade_df[['Utbildningsnamn'] + beviljade_kolumner]\n",
    "\n",
    "# Gruppera per kurs och summera platser (om det finns dubbletter)\n",
    "beviljade_per_kurs = df_beviljade_filtrerad.groupby('Utbildningsnamn').sum().reset_index()\n",
    "\n",
    "print(beviljade_per_kurs.head())\n",
    "\n",
    "# Summera totalt antal beviljade platser per år över alla kurser\n",
    "beviljade_per_år = beviljade_per_kurs[beviljade_kolumner].sum()\n",
    "print(beviljade_per_år)\n"
   ]
  },
  {
   "cell_type": "code",
   "execution_count": 27,
   "id": "941cc61c",
   "metadata": {},
   "outputs": [
    {
     "data": {
      "text/html": [
       "<div>\n",
       "<style scoped>\n",
       "    .dataframe tbody tr th:only-of-type {\n",
       "        vertical-align: middle;\n",
       "    }\n",
       "\n",
       "    .dataframe tbody tr th {\n",
       "        vertical-align: top;\n",
       "    }\n",
       "\n",
       "    .dataframe thead th {\n",
       "        text-align: right;\n",
       "    }\n",
       "</style>\n",
       "<table border=\"1\" class=\"dataframe\">\n",
       "  <thead>\n",
       "    <tr style=\"text-align: right;\">\n",
       "      <th></th>\n",
       "      <th>Utbildningsnamn</th>\n",
       "      <th>Antal beviljade platser 2021</th>\n",
       "      <th>Antal beviljade platser 2022</th>\n",
       "      <th>Antal beviljade platser 2023</th>\n",
       "      <th>Antal beviljade platser 2024</th>\n",
       "      <th>Antal beviljade platser start 2024</th>\n",
       "      <th>Antal beviljade platser start och slut 2024</th>\n",
       "      <th>Antal beviljade platser start 2025</th>\n",
       "    </tr>\n",
       "  </thead>\n",
       "  <tbody>\n",
       "    <tr>\n",
       "      <th>0</th>\n",
       "      <td>Grön vätgas</td>\n",
       "      <td>0.0</td>\n",
       "      <td>0.0</td>\n",
       "      <td>0.0</td>\n",
       "      <td>0.0</td>\n",
       "      <td>0.0</td>\n",
       "      <td>0.0</td>\n",
       "      <td>0.0</td>\n",
       "    </tr>\n",
       "    <tr>\n",
       "      <th>1</th>\n",
       "      <td>.Net-programmering - Azure DevOps</td>\n",
       "      <td>0.0</td>\n",
       "      <td>0.0</td>\n",
       "      <td>0.0</td>\n",
       "      <td>0.0</td>\n",
       "      <td>0.0</td>\n",
       "      <td>0.0</td>\n",
       "      <td>0.0</td>\n",
       "    </tr>\n",
       "    <tr>\n",
       "      <th>2</th>\n",
       "      <td>3D Clo Fördjupning Modedesigner</td>\n",
       "      <td>0.0</td>\n",
       "      <td>0.0</td>\n",
       "      <td>0.0</td>\n",
       "      <td>25.0</td>\n",
       "      <td>0.0</td>\n",
       "      <td>0.0</td>\n",
       "      <td>0.0</td>\n",
       "    </tr>\n",
       "    <tr>\n",
       "      <th>3</th>\n",
       "      <td>3D Clo Fördjupning Mönsterkonstruktör</td>\n",
       "      <td>0.0</td>\n",
       "      <td>0.0</td>\n",
       "      <td>25.0</td>\n",
       "      <td>25.0</td>\n",
       "      <td>0.0</td>\n",
       "      <td>25.0</td>\n",
       "      <td>0.0</td>\n",
       "    </tr>\n",
       "    <tr>\n",
       "      <th>4</th>\n",
       "      <td>3D Clo Modedesign och Mönsterkonstruktion</td>\n",
       "      <td>0.0</td>\n",
       "      <td>0.0</td>\n",
       "      <td>0.0</td>\n",
       "      <td>0.0</td>\n",
       "      <td>0.0</td>\n",
       "      <td>0.0</td>\n",
       "      <td>0.0</td>\n",
       "    </tr>\n",
       "    <tr>\n",
       "      <th>...</th>\n",
       "      <td>...</td>\n",
       "      <td>...</td>\n",
       "      <td>...</td>\n",
       "      <td>...</td>\n",
       "      <td>...</td>\n",
       "      <td>...</td>\n",
       "      <td>...</td>\n",
       "      <td>...</td>\n",
       "    </tr>\n",
       "    <tr>\n",
       "      <th>1417</th>\n",
       "      <td>Äldrepsykiatri</td>\n",
       "      <td>0.0</td>\n",
       "      <td>0.0</td>\n",
       "      <td>0.0</td>\n",
       "      <td>0.0</td>\n",
       "      <td>0.0</td>\n",
       "      <td>0.0</td>\n",
       "      <td>0.0</td>\n",
       "    </tr>\n",
       "    <tr>\n",
       "      <th>1418</th>\n",
       "      <td>Äldrepsykiatri och bemötande</td>\n",
       "      <td>0.0</td>\n",
       "      <td>0.0</td>\n",
       "      <td>0.0</td>\n",
       "      <td>0.0</td>\n",
       "      <td>0.0</td>\n",
       "      <td>0.0</td>\n",
       "      <td>0.0</td>\n",
       "    </tr>\n",
       "    <tr>\n",
       "      <th>1419</th>\n",
       "      <td>Ängar - skötsel, anläggning och restaurering</td>\n",
       "      <td>0.0</td>\n",
       "      <td>25.0</td>\n",
       "      <td>25.0</td>\n",
       "      <td>25.0</td>\n",
       "      <td>0.0</td>\n",
       "      <td>0.0</td>\n",
       "      <td>25.0</td>\n",
       "    </tr>\n",
       "    <tr>\n",
       "      <th>1420</th>\n",
       "      <td>Återbruk inom fastighet och bygg</td>\n",
       "      <td>0.0</td>\n",
       "      <td>30.0</td>\n",
       "      <td>105.0</td>\n",
       "      <td>35.0</td>\n",
       "      <td>0.0</td>\n",
       "      <td>0.0</td>\n",
       "      <td>0.0</td>\n",
       "    </tr>\n",
       "    <tr>\n",
       "      <th>1421</th>\n",
       "      <td>Återbruk och cirkularitet inom bygg &amp; fastighet</td>\n",
       "      <td>0.0</td>\n",
       "      <td>0.0</td>\n",
       "      <td>0.0</td>\n",
       "      <td>0.0</td>\n",
       "      <td>32.0</td>\n",
       "      <td>0.0</td>\n",
       "      <td>32.0</td>\n",
       "    </tr>\n",
       "  </tbody>\n",
       "</table>\n",
       "<p>1422 rows × 8 columns</p>\n",
       "</div>"
      ],
      "text/plain": [
       "                                      Utbildningsnamn  \\\n",
       "0                                         Grön vätgas   \n",
       "1                   .Net-programmering - Azure DevOps   \n",
       "2                     3D Clo Fördjupning Modedesigner   \n",
       "3               3D Clo Fördjupning Mönsterkonstruktör   \n",
       "4           3D Clo Modedesign och Mönsterkonstruktion   \n",
       "...                                               ...   \n",
       "1417                                   Äldrepsykiatri   \n",
       "1418                     Äldrepsykiatri och bemötande   \n",
       "1419     Ängar - skötsel, anläggning och restaurering   \n",
       "1420                 Återbruk inom fastighet och bygg   \n",
       "1421  Återbruk och cirkularitet inom bygg & fastighet   \n",
       "\n",
       "      Antal beviljade platser 2021  Antal beviljade platser 2022  \\\n",
       "0                              0.0                           0.0   \n",
       "1                              0.0                           0.0   \n",
       "2                              0.0                           0.0   \n",
       "3                              0.0                           0.0   \n",
       "4                              0.0                           0.0   \n",
       "...                            ...                           ...   \n",
       "1417                           0.0                           0.0   \n",
       "1418                           0.0                           0.0   \n",
       "1419                           0.0                          25.0   \n",
       "1420                           0.0                          30.0   \n",
       "1421                           0.0                           0.0   \n",
       "\n",
       "      Antal beviljade platser 2023  Antal beviljade platser 2024  \\\n",
       "0                              0.0                           0.0   \n",
       "1                              0.0                           0.0   \n",
       "2                              0.0                          25.0   \n",
       "3                             25.0                          25.0   \n",
       "4                              0.0                           0.0   \n",
       "...                            ...                           ...   \n",
       "1417                           0.0                           0.0   \n",
       "1418                           0.0                           0.0   \n",
       "1419                          25.0                          25.0   \n",
       "1420                         105.0                          35.0   \n",
       "1421                           0.0                           0.0   \n",
       "\n",
       "      Antal beviljade platser start 2024  \\\n",
       "0                                    0.0   \n",
       "1                                    0.0   \n",
       "2                                    0.0   \n",
       "3                                    0.0   \n",
       "4                                    0.0   \n",
       "...                                  ...   \n",
       "1417                                 0.0   \n",
       "1418                                 0.0   \n",
       "1419                                 0.0   \n",
       "1420                                 0.0   \n",
       "1421                                32.0   \n",
       "\n",
       "      Antal beviljade platser start och slut 2024  \\\n",
       "0                                             0.0   \n",
       "1                                             0.0   \n",
       "2                                             0.0   \n",
       "3                                            25.0   \n",
       "4                                             0.0   \n",
       "...                                           ...   \n",
       "1417                                          0.0   \n",
       "1418                                          0.0   \n",
       "1419                                          0.0   \n",
       "1420                                          0.0   \n",
       "1421                                          0.0   \n",
       "\n",
       "      Antal beviljade platser start 2025  \n",
       "0                                    0.0  \n",
       "1                                    0.0  \n",
       "2                                    0.0  \n",
       "3                                    0.0  \n",
       "4                                    0.0  \n",
       "...                                  ...  \n",
       "1417                                 0.0  \n",
       "1418                                 0.0  \n",
       "1419                                25.0  \n",
       "1420                                 0.0  \n",
       "1421                                32.0  \n",
       "\n",
       "[1422 rows x 8 columns]"
      ]
     },
     "metadata": {},
     "output_type": "display_data"
    },
    {
     "data": {
      "text/html": [
       "<div>\n",
       "<style scoped>\n",
       "    .dataframe tbody tr th:only-of-type {\n",
       "        vertical-align: middle;\n",
       "    }\n",
       "\n",
       "    .dataframe tbody tr th {\n",
       "        vertical-align: top;\n",
       "    }\n",
       "\n",
       "    .dataframe thead th {\n",
       "        text-align: right;\n",
       "    }\n",
       "</style>\n",
       "<table border=\"1\" class=\"dataframe\">\n",
       "  <thead>\n",
       "    <tr style=\"text-align: right;\">\n",
       "      <th></th>\n",
       "      <th>År</th>\n",
       "      <th>Totalt antal beviljade platser</th>\n",
       "    </tr>\n",
       "  </thead>\n",
       "  <tbody>\n",
       "    <tr>\n",
       "      <th>0</th>\n",
       "      <td>Antal beviljade platser 2021</td>\n",
       "      <td>2938.0</td>\n",
       "    </tr>\n",
       "    <tr>\n",
       "      <th>1</th>\n",
       "      <td>Antal beviljade platser 2022</td>\n",
       "      <td>9539.0</td>\n",
       "    </tr>\n",
       "    <tr>\n",
       "      <th>2</th>\n",
       "      <td>Antal beviljade platser 2023</td>\n",
       "      <td>11165.0</td>\n",
       "    </tr>\n",
       "    <tr>\n",
       "      <th>3</th>\n",
       "      <td>Antal beviljade platser 2024</td>\n",
       "      <td>6307.0</td>\n",
       "    </tr>\n",
       "    <tr>\n",
       "      <th>4</th>\n",
       "      <td>Antal beviljade platser start 2024</td>\n",
       "      <td>8327.0</td>\n",
       "    </tr>\n",
       "    <tr>\n",
       "      <th>5</th>\n",
       "      <td>Antal beviljade platser start och slut 2024</td>\n",
       "      <td>7561.0</td>\n",
       "    </tr>\n",
       "    <tr>\n",
       "      <th>6</th>\n",
       "      <td>Antal beviljade platser start 2025</td>\n",
       "      <td>8071.0</td>\n",
       "    </tr>\n",
       "  </tbody>\n",
       "</table>\n",
       "</div>"
      ],
      "text/plain": [
       "                                            År  Totalt antal beviljade platser\n",
       "0                 Antal beviljade platser 2021                          2938.0\n",
       "1                 Antal beviljade platser 2022                          9539.0\n",
       "2                 Antal beviljade platser 2023                         11165.0\n",
       "3                 Antal beviljade platser 2024                          6307.0\n",
       "4           Antal beviljade platser start 2024                          8327.0\n",
       "5  Antal beviljade platser start och slut 2024                          7561.0\n",
       "6           Antal beviljade platser start 2025                          8071.0"
      ]
     },
     "metadata": {},
     "output_type": "display_data"
    }
   ],
   "source": [
    "import pandas as pd\n",
    "\n",
    "# Visa antal beviljade platser per kurs och år\n",
    "display(beviljade_per_kurs)\n",
    "\n",
    "# Gör total-summeringen till en DataFrame för bättre visning\n",
    "beviljade_per_år_df = beviljade_per_år.reset_index()\n",
    "beviljade_per_år_df.columns = ['År', 'Totalt antal beviljade platser']\n",
    "\n",
    "# Visa totalerna per år\n",
    "display(beviljade_per_år_df)\n"
   ]
  },
  {
   "cell_type": "code",
   "execution_count": 28,
   "id": "f23b5ff6",
   "metadata": {},
   "outputs": [],
   "source": [
    "# Summera ansökta platser per år\n",
    "ansokta_per_ar = ansokningar_df[platser_kolumner].sum()\n",
    "\n",
    "# Summera beviljade platser per år\n",
    "beviljade_kolumner = [\n",
    "    \"Antal beviljade platser 2021\", \n",
    "    \"Antal beviljade platser 2022\", \n",
    "    \"Antal beviljade platser 2023\", \n",
    "    \"Antal beviljade platser 2024\", \n",
    "    \"Antal beviljade platser start 2024\", \n",
    "    \"Antal beviljade platser start och slut 2024\", \n",
    "    \"Antal beviljade platser start 2025\"\n",
    "]\n",
    "beviljade_per_ar = beviljade_df[beviljade_kolumner].sum()\n"
   ]
  },
  {
   "cell_type": "code",
   "execution_count": 29,
   "id": "08e8bfaa",
   "metadata": {},
   "outputs": [
    {
     "data": {
      "image/png": "[encoded data removed]",
      "text/plain": [
       "<Figure size 1200x700 with 1 Axes>"
      ]
     },
     "metadata": {},
     "output_type": "display_data"
    }
   ],
   "source": [
    "import matplotlib.pyplot as plt\n",
    "import numpy as np\n",
    "\n",
    "# Extrahera år och platser från summeringarna\n",
    "ar = [\"2021\", \"2022\", \"2023\", \"2024\", \"2025\"]\n",
    "ansokta = [\n",
    "    ansokta_per_ar[\"Sökt antal  platser 2021\"],\n",
    "    ansokta_per_ar[\"Sökt antal platser 2022\"],\n",
    "    ansokta_per_ar[\"Sökt antal platser 2023\"],\n",
    "    ansokta_per_ar[\"Sökt antal platser 2024\"] + ansokta_per_ar[\"Sökt antal platser 2024 (start och avslut 2024)\"],\n",
    "    ansokta_per_ar[\"Sökt antal platser 2025\"]\n",
    "]\n",
    "beviljade = [\n",
    "    beviljade_per_ar[\"Antal beviljade platser 2021\"],\n",
    "    beviljade_per_ar[\"Antal beviljade platser 2022\"],\n",
    "    beviljade_per_ar[\"Antal beviljade platser 2023\"],\n",
    "    beviljade_per_ar[\"Antal beviljade platser 2024\"] + beviljade_per_ar[\"Antal beviljade platser start 2024\"] + beviljade_per_ar[\"Antal beviljade platser start och slut 2024\"],\n",
    "    beviljade_per_ar[\"Antal beviljade platser start 2025\"]\n",
    "]\n",
    "\n",
    "# Skapa en array för placering av staplar\n",
    "x = np.arange(len(ar))\n",
    "\n",
    "# Bredd på staplarna\n",
    "width = 0.35  \n",
    "\n",
    "fig, ax = plt.subplots(figsize=(12, 7))\n",
    "\n",
    "# Staplar för ansökta platser\n",
    "bars1 = ax.bar(x - width/2, ansokta, width, label='Ansökta platser', color='skyblue')\n",
    "\n",
    "# Staplar för beviljade platser\n",
    "bars2 = ax.bar(x + width/2, beviljade, width, label='Beviljade platser', color='orange')\n",
    "\n",
    "# Lägg till text, titel och etiketter\n",
    "ax.set_xlabel('År')\n",
    "ax.set_ylabel('Antal platser')\n",
    "ax.set_title('Ansökta vs Beviljade platser per år')\n",
    "ax.set_xticks(x)\n",
    "ax.set_xticklabels(ar)\n",
    "ax.legend()\n",
    "\n",
    "# Visa värden ovanpå staplarna\n",
    "def add_labels(bars):\n",
    "    for bar in bars:\n",
    "        yval = bar.get_height()\n",
    "        ax.text(bar.get_x() + bar.get_width() / 2, yval + 100, int(yval), ha='center', va='bottom')\n",
    "\n",
    "add_labels(bars1)\n",
    "add_labels(bars2)\n",
    "\n",
    "plt.xticks(rotation=45)\n",
    "plt.tight_layout()\n",
    "plt.grid(alpha=0.3)\n",
    "plt.show()\n"
   ]
  },
  {
   "cell_type": "code",
   "execution_count": 30,
   "id": "56c2104f",
   "metadata": {},
   "outputs": [
    {
     "name": "stdout",
     "output_type": "stream",
     "text": [
      "                        Utbildningsnamn  Sökt antal  platser 2021  \\\n",
      "0              Futuregames Game Engines                      60.0   \n",
      "1                           Grön vätgas                       0.0   \n",
      "2   Trafikplanering för en hållbar stad                      30.0   \n",
      "3     .Net-programmering - Azure DevOps                       0.0   \n",
      "4       3D Clo Fördjupning Modedesigner                       0.0   \n",
      "\n",
      "   Sökt antal platser 2022  Sökt antal platser 2023  Sökt antal platser 2024  \\\n",
      "0                     80.0                      0.0                      0.0   \n",
      "1                      0.0                      0.0                      0.0   \n",
      "2                     60.0                      0.0                      0.0   \n",
      "3                      0.0                      0.0                      0.0   \n",
      "4                      0.0                      0.0                     25.0   \n",
      "\n",
      "   Sökt antal platser 2024 (start och avslut 2024)  Sökt antal platser 2025  \\\n",
      "0                                              0.0                      0.0   \n",
      "1                                              0.0                      0.0   \n",
      "2                                              0.0                      0.0   \n",
      "3                                              0.0                      0.0   \n",
      "4                                              0.0                     25.0   \n",
      "\n",
      "   Antal beviljade platser 2021  Antal beviljade platser 2022  \\\n",
      "0                           0.0                           0.0   \n",
      "1                           0.0                           0.0   \n",
      "2                           0.0                           0.0   \n",
      "3                           0.0                           0.0   \n",
      "4                           0.0                           0.0   \n",
      "\n",
      "   Antal beviljade platser 2023  Antal beviljade platser 2024  \\\n",
      "0                           0.0                           0.0   \n",
      "1                           0.0                           0.0   \n",
      "2                           0.0                           0.0   \n",
      "3                           0.0                           0.0   \n",
      "4                           0.0                          25.0   \n",
      "\n",
      "   Antal beviljade platser start 2024  \\\n",
      "0                                 0.0   \n",
      "1                                 0.0   \n",
      "2                                 0.0   \n",
      "3                                 0.0   \n",
      "4                                 0.0   \n",
      "\n",
      "   Antal beviljade platser start och slut 2024  \\\n",
      "0                                          0.0   \n",
      "1                                          0.0   \n",
      "2                                          0.0   \n",
      "3                                          0.0   \n",
      "4                                          0.0   \n",
      "\n",
      "   Antal beviljade platser start 2025  \n",
      "0                                 0.0  \n",
      "1                                 0.0  \n",
      "2                                 0.0  \n",
      "3                                 0.0  \n",
      "4                                 0.0  \n"
     ]
    }
   ],
   "source": [
    "# Sammanställ ansökta platser per kurs\n",
    "ansokta_per_kurs = ansokningar_df[[\"Utbildningsnamn\"] + platser_kolumner].groupby(\"Utbildningsnamn\").sum().reset_index()\n",
    "\n",
    "# Sammanställ beviljade platser per kurs\n",
    "beviljade_per_kurs = beviljade_df[[\"Utbildningsnamn\"] + beviljade_kolumner].groupby(\"Utbildningsnamn\").sum().reset_index()\n",
    "\n",
    "# Slå ihop de två DataFrames baserat på kursnamn\n",
    "merged_df = ansokta_per_kurs.merge(beviljade_per_kurs, on=\"Utbildningsnamn\", how=\"outer\")\n",
    "\n",
    "# Fyll NaN med 0 för att undvika fel vid visualisering\n",
    "merged_df.fillna(0, inplace=True)\n",
    "\n",
    "print(merged_df.head())\n"
   ]
  },
  {
   "cell_type": "code",
   "execution_count": 31,
   "id": "b40efe12",
   "metadata": {},
   "outputs": [
    {
     "data": {
      "application/vnd.plotly.v1+json": {
       "config": {
        "plotlyServerURL": "https://plot.ly"
       },
       "data": [
        {
         "alignmentgroup": "True",
         "hovertemplate": "Kategori=Ansökta<br>År=%{x}<br>Antal platser=%{y}<extra></extra>",
         "legendgroup": "Ansökta",
         "marker": {
          "color": "#636efa",
          "pattern": {
           "shape": ""
          }
         },
         "name": "Ansökta",
         "offsetgroup": "Ansökta",
         "orientation": "v",
         "showlegend": true,
         "textposition": "auto",
         "type": "bar",
         "x": [
          "2021",
          "2022",
          "2023",
          "2024",
          "2025"
         ],
         "xaxis": "x",
         "y": {
          "bdata": "AAAAAAAAAAAAAAAAAAAAAAAAAAAAADlAAAAAAADAUkAAAAAAAAA5QA==",
          "dtype": "f8"
         },
         "yaxis": "y"
        },
        {
         "alignmentgroup": "True",
         "hovertemplate": "Kategori=Beviljade<br>År=%{x}<br>Antal platser=%{y}<extra></extra>",
         "legendgroup": "Beviljade",
         "marker": {
          "color": "#EF553B",
          "pattern": {
           "shape": ""
          }
         },
         "name": "Beviljade",
         "offsetgroup": "Beviljade",
         "orientation": "v",
         "showlegend": true,
         "textposition": "auto",
         "type": "bar",
         "x": [
          "2021",
          "2022",
          "2023",
          "2024",
          "2025"
         ],
         "xaxis": "x",
         "y": {
          "bdata": "AAAAAAAAAAAAAAAAAAAAAAAAAAAAADlAAAAAAAAASUAAAAAAAAAAAA==",
          "dtype": "f8"
         },
         "yaxis": "y"
        }
       ],
       "layout": {
        "barmode": "group",
        "legend": {
         "title": {
          "text": "Kategori"
         },
         "tracegroupgap": 0
        },
        "template": {
         "data": {
          "bar": [
           {
            "error_x": {
             "color": "#2a3f5f"
            },
            "error_y": {
             "color": "#2a3f5f"
            },
            "marker": {
             "line": {
              "color": "white",
              "width": 0.5
             },
             "pattern": {
              "fillmode": "overlay",
              "size": 10,
              "solidity": 0.2
             }
            },
            "type": "bar"
           }
          ],
          "barpolar": [
           {
            "marker": {
             "line": {
              "color": "white",
              "width": 0.5
             },
             "pattern": {
              "fillmode": "overlay",
              "size": 10,
              "solidity": 0.2
             }
            },
            "type": "barpolar"
           }
          ],
          "carpet": [
           {
            "aaxis": {
             "endlinecolor": "#2a3f5f",
             "gridcolor": "#C8D4E3",
             "linecolor": "#C8D4E3",
             "minorgridcolor": "#C8D4E3",
             "startlinecolor": "#2a3f5f"
            },
            "baxis": {
             "endlinecolor": "#2a3f5f",
             "gridcolor": "#C8D4E3",
             "linecolor": "#C8D4E3",
             "minorgridcolor": "#C8D4E3",
             "startlinecolor": "#2a3f5f"
            },
            "type": "carpet"
           }
          ],
          "choropleth": [
           {
            "colorbar": {
             "outlinewidth": 0,
             "ticks": ""
            },
            "type": "choropleth"
           }
          ],
          "contour": [
           {
            "colorbar": {
             "outlinewidth": 0,
             "ticks": ""
            },
            "colorscale": [
             [
              0,
              "#0d0887"
             ],
             [
              0.1111111111111111,
              "#46039f"
             ],
             [
              0.2222222222222222,
              "#7201a8"
             ],
             [
              0.3333333333333333,
              "#9c179e"
             ],
             [
              0.4444444444444444,
              "#bd3786"
             ],
             [
              0.5555555555555556,
              "#d8576b"
             ],
             [
              0.6666666666666666,
              "#ed7953"
             ],
             [
              0.7777777777777778,
              "#fb9f3a"
             ],
             [
              0.8888888888888888,
              "#fdca26"
             ],
             [
              1,
              "#f0f921"
             ]
            ],
            "type": "contour"
           }
          ],
          "contourcarpet": [
           {
            "colorbar": {
             "outlinewidth": 0,
             "ticks": ""
            },
            "type": "contourcarpet"
           }
          ],
          "heatmap": [
           {
            "colorbar": {
             "outlinewidth": 0,
             "ticks": ""
            },
            "colorscale": [
             [
              0,
              "#0d0887"
             ],
             [
              0.1111111111111111,
              "#46039f"
             ],
             [
              0.2222222222222222,
              "#7201a8"
             ],
             [
              0.3333333333333333,
              "#9c179e"
             ],
             [
              0.4444444444444444,
              "#bd3786"
             ],
             [
              0.5555555555555556,
              "#d8576b"
             ],
             [
              0.6666666666666666,
              "#ed7953"
             ],
             [
              0.7777777777777778,
              "#fb9f3a"
             ],
             [
              0.8888888888888888,
              "#fdca26"
             ],
             [
              1,
              "#f0f921"
             ]
            ],
            "type": "heatmap"
           }
          ],
          "histogram": [
           {
            "marker": {
             "pattern": {
              "fillmode": "overlay",
              "size": 10,
              "solidity": 0.2
             }
            },
            "type": "histogram"
           }
          ],
          "histogram2d": [
           {
            "colorbar": {
             "outlinewidth": 0,
             "ticks": ""
            },
            "colorscale": [
             [
              0,
              "#0d0887"
             ],
             [
              0.1111111111111111,
              "#46039f"
             ],
             [
              0.2222222222222222,
              "#7201a8"
             ],
             [
              0.3333333333333333,
              "#9c179e"
             ],
             [
              0.4444444444444444,
              "#bd3786"
             ],
             [
              0.5555555555555556,
              "#d8576b"
             ],
             [
              0.6666666666666666,
              "#ed7953"
             ],
             [
              0.7777777777777778,
              "#fb9f3a"
             ],
             [
              0.8888888888888888,
              "#fdca26"
             ],
             [
              1,
              "#f0f921"
             ]
            ],
            "type": "histogram2d"
           }
          ],
          "histogram2dcontour": [
           {
            "colorbar": {
             "outlinewidth": 0,
             "ticks": ""
            },
            "colorscale": [
             [
              0,
              "#0d0887"
             ],
             [
              0.1111111111111111,
              "#46039f"
             ],
             [
              0.2222222222222222,
              "#7201a8"
             ],
             [
              0.3333333333333333,
              "#9c179e"
             ],
             [
              0.4444444444444444,
              "#bd3786"
             ],
             [
              0.5555555555555556,
              "#d8576b"
             ],
             [
              0.6666666666666666,
              "#ed7953"
             ],
             [
              0.7777777777777778,
              "#fb9f3a"
             ],
             [
              0.8888888888888888,
              "#fdca26"
             ],
             [
              1,
              "#f0f921"
             ]
            ],
            "type": "histogram2dcontour"
           }
          ],
          "mesh3d": [
           {
            "colorbar": {
             "outlinewidth": 0,
             "ticks": ""
            },
            "type": "mesh3d"
           }
          ],
          "parcoords": [
           {
            "line": {
             "colorbar": {
              "outlinewidth": 0,
              "ticks": ""
             }
            },
            "type": "parcoords"
           }
          ],
          "pie": [
           {
            "automargin": true,
            "type": "pie"
           }
          ],
          "scatter": [
           {
            "fillpattern": {
             "fillmode": "overlay",
             "size": 10,
             "solidity": 0.2
            },
            "type": "scatter"
           }
          ],
          "scatter3d": [
           {
            "line": {
             "colorbar": {
              "outlinewidth": 0,
              "ticks": ""
             }
            },
            "marker": {
             "colorbar": {
              "outlinewidth": 0,
              "ticks": ""
             }
            },
            "type": "scatter3d"
           }
          ],
          "scattercarpet": [
           {
            "marker": {
             "colorbar": {
              "outlinewidth": 0,
              "ticks": ""
             }
            },
            "type": "scattercarpet"
           }
          ],
          "scattergeo": [
           {
            "marker": {
             "colorbar": {
              "outlinewidth": 0,
              "ticks": ""
             }
            },
            "type": "scattergeo"
           }
          ],
          "scattergl": [
           {
            "marker": {
             "colorbar": {
              "outlinewidth": 0,
              "ticks": ""
             }
            },
            "type": "scattergl"
           }
          ],
          "scattermap": [
           {
            "marker": {
             "colorbar": {
              "outlinewidth": 0,
              "ticks": ""
             }
            },
            "type": "scattermap"
           }
          ],
          "scattermapbox": [
           {
            "marker": {
             "colorbar": {
              "outlinewidth": 0,
              "ticks": ""
             }
            },
            "type": "scattermapbox"
           }
          ],
          "scatterpolar": [
           {
            "marker": {
             "colorbar": {
              "outlinewidth": 0,
              "ticks": ""
             }
            },
            "type": "scatterpolar"
           }
          ],
          "scatterpolargl": [
           {
            "marker": {
             "colorbar": {
              "outlinewidth": 0,
              "ticks": ""
             }
            },
            "type": "scatterpolargl"
           }
          ],
          "scatterternary": [
           {
            "marker": {
             "colorbar": {
              "outlinewidth": 0,
              "ticks": ""
             }
            },
            "type": "scatterternary"
           }
          ],
          "surface": [
           {
            "colorbar": {
             "outlinewidth": 0,
             "ticks": ""
            },
            "colorscale": [
             [
              0,
              "#0d0887"
             ],
             [
              0.1111111111111111,
              "#46039f"
             ],
             [
              0.2222222222222222,
              "#7201a8"
             ],
             [
              0.3333333333333333,
              "#9c179e"
             ],
             [
              0.4444444444444444,
              "#bd3786"
             ],
             [
              0.5555555555555556,
              "#d8576b"
             ],
             [
              0.6666666666666666,
              "#ed7953"
             ],
             [
              0.7777777777777778,
              "#fb9f3a"
             ],
             [
              0.8888888888888888,
              "#fdca26"
             ],
             [
              1,
              "#f0f921"
             ]
            ],
            "type": "surface"
           }
          ],
          "table": [
           {
            "cells": {
             "fill": {
              "color": "#EBF0F8"
             },
             "line": {
              "color": "white"
             }
            },
            "header": {
             "fill": {
              "color": "#C8D4E3"
             },
             "line": {
              "color": "white"
             }
            },
            "type": "table"
           }
          ]
         },
         "layout": {
          "annotationdefaults": {
           "arrowcolor": "#2a3f5f",
           "arrowhead": 0,
           "arrowwidth": 1
          },
          "autotypenumbers": "strict",
          "coloraxis": {
           "colorbar": {
            "outlinewidth": 0,
            "ticks": ""
           }
          },
          "colorscale": {
           "diverging": [
            [
             0,
             "#8e0152"
            ],
            [
             0.1,
             "#c51b7d"
            ],
            [
             0.2,
             "#de77ae"
            ],
            [
             0.3,
             "#f1b6da"
            ],
            [
             0.4,
             "#fde0ef"
            ],
            [
             0.5,
             "#f7f7f7"
            ],
            [
             0.6,
             "#e6f5d0"
            ],
            [
             0.7,
             "#b8e186"
            ],
            [
             0.8,
             "#7fbc41"
            ],
            [
             0.9,
             "#4d9221"
            ],
            [
             1,
             "#276419"
            ]
           ],
           "sequential": [
            [
             0,
             "#0d0887"
            ],
            [
             0.1111111111111111,
             "#46039f"
            ],
            [
             0.2222222222222222,
             "#7201a8"
            ],
            [
             0.3333333333333333,
             "#9c179e"
            ],
            [
             0.4444444444444444,
             "#bd3786"
            ],
            [
             0.5555555555555556,
             "#d8576b"
            ],
            [
             0.6666666666666666,
             "#ed7953"
            ],
            [
             0.7777777777777778,
             "#fb9f3a"
            ],
            [
             0.8888888888888888,
             "#fdca26"
            ],
            [
             1,
             "#f0f921"
            ]
           ],
           "sequentialminus": [
            [
             0,
             "#0d0887"
            ],
            [
             0.1111111111111111,
             "#46039f"
            ],
            [
             0.2222222222222222,
             "#7201a8"
            ],
            [
             0.3333333333333333,
             "#9c179e"
            ],
            [
             0.4444444444444444,
             "#bd3786"
            ],
            [
             0.5555555555555556,
             "#d8576b"
            ],
            [
             0.6666666666666666,
             "#ed7953"
            ],
            [
             0.7777777777777778,
             "#fb9f3a"
            ],
            [
             0.8888888888888888,
             "#fdca26"
            ],
            [
             1,
             "#f0f921"
            ]
           ]
          },
          "colorway": [
           "#636efa",
           "#EF553B",
           "#00cc96",
           "#ab63fa",
           "#FFA15A",
           "#19d3f3",
           "#FF6692",
           "#B6E880",
           "#FF97FF",
           "#FECB52"
          ],
          "font": {
           "color": "#2a3f5f"
          },
          "geo": {
           "bgcolor": "white",
           "lakecolor": "white",
           "landcolor": "white",
           "showlakes": true,
           "showland": true,
           "subunitcolor": "#C8D4E3"
          },
          "hoverlabel": {
           "align": "left"
          },
          "hovermode": "closest",
          "mapbox": {
           "style": "light"
          },
          "paper_bgcolor": "white",
          "plot_bgcolor": "white",
          "polar": {
           "angularaxis": {
            "gridcolor": "#EBF0F8",
            "linecolor": "#EBF0F8",
            "ticks": ""
           },
           "bgcolor": "white",
           "radialaxis": {
            "gridcolor": "#EBF0F8",
            "linecolor": "#EBF0F8",
            "ticks": ""
           }
          },
          "scene": {
           "xaxis": {
            "backgroundcolor": "white",
            "gridcolor": "#DFE8F3",
            "gridwidth": 2,
            "linecolor": "#EBF0F8",
            "showbackground": true,
            "ticks": "",
            "zerolinecolor": "#EBF0F8"
           },
           "yaxis": {
            "backgroundcolor": "white",
            "gridcolor": "#DFE8F3",
            "gridwidth": 2,
            "linecolor": "#EBF0F8",
            "showbackground": true,
            "ticks": "",
            "zerolinecolor": "#EBF0F8"
           },
           "zaxis": {
            "backgroundcolor": "white",
            "gridcolor": "#DFE8F3",
            "gridwidth": 2,
            "linecolor": "#EBF0F8",
            "showbackground": true,
            "ticks": "",
            "zerolinecolor": "#EBF0F8"
           }
          },
          "shapedefaults": {
           "line": {
            "color": "#2a3f5f"
           }
          },
          "ternary": {
           "aaxis": {
            "gridcolor": "#DFE8F3",
            "linecolor": "#A2B1C6",
            "ticks": ""
           },
           "baxis": {
            "gridcolor": "#DFE8F3",
            "linecolor": "#A2B1C6",
            "ticks": ""
           },
           "bgcolor": "white",
           "caxis": {
            "gridcolor": "#DFE8F3",
            "linecolor": "#A2B1C6",
            "ticks": ""
           }
          },
          "title": {
           "x": 0.05
          },
          "xaxis": {
           "automargin": true,
           "gridcolor": "#EBF0F8",
           "linecolor": "#EBF0F8",
           "ticks": "",
           "title": {
            "standoff": 15
           },
           "zerolinecolor": "#EBF0F8",
           "zerolinewidth": 2
          },
          "yaxis": {
           "automargin": true,
           "gridcolor": "#EBF0F8",
           "linecolor": "#EBF0F8",
           "ticks": "",
           "title": {
            "standoff": 15
           },
           "zerolinecolor": "#EBF0F8",
           "zerolinewidth": 2
          }
         }
        },
        "title": {
         "text": "Ansökta vs Beviljade platser för 3D Clo Fördjupning Mönsterkonstruktör"
        },
        "xaxis": {
         "anchor": "y",
         "domain": [
          0,
          1
         ],
         "title": {
          "text": "År"
         }
        },
        "yaxis": {
         "anchor": "x",
         "domain": [
          0,
          1
         ],
         "title": {
          "text": "Antal platser"
         }
        }
       }
      }
     },
     "metadata": {},
     "output_type": "display_data"
    }
   ],
   "source": [
    "import plotly.express as px\n",
    "\n",
    "def visualisera_kurs(kurs_namn):\n",
    "    # Filtrera DataFrame för vald kurs\n",
    "    kurs_data = merged_df[merged_df[\"Utbildningsnamn\"] == kurs_namn]\n",
    "    \n",
    "    # Sammanställ data för visualisering\n",
    "    data = {\n",
    "        \"År\": [\"2021\", \"2022\", \"2023\", \"2024\", \"2025\"],\n",
    "        \"Ansökta\": [\n",
    "            kurs_data[\"Sökt antal  platser 2021\"].values[0],\n",
    "            kurs_data[\"Sökt antal platser 2022\"].values[0],\n",
    "            kurs_data[\"Sökt antal platser 2023\"].values[0],\n",
    "            kurs_data[\"Sökt antal platser 2024\"].values[0] + kurs_data[\"Sökt antal platser 2024 (start och avslut 2024)\"].values[0],\n",
    "            kurs_data[\"Sökt antal platser 2025\"].values[0]\n",
    "        ],\n",
    "        \"Beviljade\": [\n",
    "            kurs_data[\"Antal beviljade platser 2021\"].values[0],\n",
    "            kurs_data[\"Antal beviljade platser 2022\"].values[0],\n",
    "            kurs_data[\"Antal beviljade platser 2023\"].values[0],\n",
    "            kurs_data[\"Antal beviljade platser 2024\"].values[0] + kurs_data[\"Antal beviljade platser start 2024\"].values[0] + kurs_data[\"Antal beviljade platser start och slut 2024\"].values[0],\n",
    "            kurs_data[\"Antal beviljade platser start 2025\"].values[0]\n",
    "        ]\n",
    "    }\n",
    "    \n",
    "    df_kurs = pd.DataFrame(data)\n",
    "    \n",
    "    # Skapa en interaktiv stapelgraf\n",
    "    fig = px.bar(\n",
    "        df_kurs, \n",
    "        x=\"År\", \n",
    "        y=[\"Ansökta\", \"Beviljade\"],\n",
    "        barmode=\"group\",\n",
    "        title=f\"Ansökta vs Beviljade platser för {kurs_namn}\",\n",
    "        labels={\"value\": \"Antal platser\", \"variable\": \"Kategori\"}\n",
    "    )\n",
    "    \n",
    "    fig.update_layout(\n",
    "        xaxis_title=\"År\",\n",
    "        yaxis_title=\"Antal platser\",\n",
    "        legend_title=\"Kategori\",\n",
    "        template=\"plotly_white\"\n",
    "    )\n",
    "    \n",
    "    fig.show()\n",
    "\n",
    "# Exempel: Visualisera en kurs\n",
    "visualisera_kurs(\"3D Clo Fördjupning Mönsterkonstruktör\")\n",
    "\n"
   ]
  },
  {
   "cell_type": "code",
   "execution_count": null,
   "id": "11bbd398",
   "metadata": {},
   "outputs": [
    {
     "data": {
      "application/vnd.jupyter.widget-view+json": {
       "model_id": "87b092e1e7bd4ba8a3d7fff23b4adbb1",
       "version_major": 2,
       "version_minor": 0
      },
      "text/plain": [
       "Dropdown(description='Välj kurs:', layout=Layout(width='50%'), options=(' Futuregames Game Engines', ' Grön vä…"
      ]
     },
     "metadata": {},
     "output_type": "display_data"
    }
   ],
   "source": [
    "import plotly.graph_objects as go\n",
    "from ipywidgets import widgets\n",
    "from IPython.display import display\n",
    "\n",
    "# Skapa en lista med unika kursnamn\n",
    "kurs_lista = merged_df[\"Utbildningsnamn\"].sort_values().unique()\n",
    "\n",
    "# Skapa en dropdown-meny\n",
    "dropdown = widgets.Dropdown(\n",
    "    options=kurs_lista,\n",
    "    value=kurs_lista[0],\n",
    "    description=\"Välj kurs:\",\n",
    "    style={\"description_width\": \"initial\"},\n",
    "    layout={\"width\": \"50%\"}\n",
    ")\n",
    "\n",
    "def visualisera_kurs(kurs_namn):\n",
    "    # Filtrera DataFrame för vald kurs\n",
    "    kurs_data = merged_df[merged_df[\"Utbildningsnamn\"] == kurs_namn]\n",
    "    \n",
    "    # Sammanställ data för visualisering\n",
    "    data = {\n",
    "        \"År\": [\"2021\", \"2022\", \"2023\", \"2024\", \"2025\"],\n",
    "        \"Ansökta\": [\n",
    "            kurs_data[\"Sökt antal  platser 2021\"].values[0],\n",
    "            kurs_data[\"Sökt antal platser 2022\"].values[0],\n",
    "            kurs_data[\"Sökt antal platser 2023\"].values[0],\n",
    "            kurs_data[\"Sökt antal platser 2024\"].values[0] + kurs_data[\"Sökt antal platser 2024 (start och avslut 2024)\"].values[0],\n",
    "            kurs_data[\"Sökt antal platser 2025\"].values[0]\n",
    "        ],\n",
    "        \"Beviljade\": [\n",
    "            kurs_data[\"Antal beviljade platser 2021\"].values[0],\n",
    "            kurs_data[\"Antal beviljade platser 2022\"].values[0],\n",
    "            kurs_data[\"Antal beviljade platser 2023\"].values[0],\n",
    "            kurs_data[\"Antal beviljade platser 2024\"].values[0] + kurs_data[\"Antal beviljade platser start 2024\"].values[0] + kurs_data[\"Antal beviljade platser start och slut 2024\"].values[0],\n",
    "            kurs_data[\"Antal beviljade platser start 2025\"].values[0]\n",
    "        ]\n",
    "    }\n",
    "    \n",
    "    # Skapa en DataFrame för kursen\n",
    "    df_kurs = pd.DataFrame(data)\n",
    "    \n",
    "    # Skapa en interaktiv stapelgraf\n",
    "    fig = go.Figure()\n",
    "\n",
    "    # Ansökta platser\n",
    "    fig.add_trace(go.Bar(\n",
    "        x=df_kurs[\"År\"], \n",
    "        y=df_kurs[\"Ansökta\"], \n",
    "        name=\"Ansökta platser\",\n",
    "        marker_color=\"steelblue\"\n",
    "    ))\n",
    "\n",
    "    # Beviljade platser\n",
    "    fig.add_trace(go.Bar(\n",
    "        x=df_kurs[\"År\"], \n",
    "        y=df_kurs[\"Beviljade\"], \n",
    "        name=\"Beviljade platser\",\n",
    "        marker_color=\"seagreen\"\n",
    "    ))\n",
    "\n",
    "    # Layout\n",
    "    fig.update_layout(\n",
    "        title=f\"Ansökta vs Beviljade platser för {kurs_namn}\",\n",
    "        barmode=\"group\",\n",
    "        xaxis_title=\"År\",\n",
    "        yaxis_title=\"Antal platser\",\n",
    "        template=\"plotly_white\",\n",
    "        legend_title=\"Kategori\"\n",
    "    )\n",
    "    \n",
    "    fig.show()\n",
    "\n",
    "# Koppla dropdown-menyn till visualiseringen\n",
    "widgets.interactive(visualisera_kurs, kurs_namn=dropdown)\n",
    "display(dropdown)\n"
   ]
  }
 ],
 "metadata": {
  "kernelspec": {
   "display_name": ".venv",
   "language": "python",
   "name": "python3"
  },
  "language_info": {
   "codemirror_mode": {
    "name": "ipython",
    "version": 3
   },
   "file_extension": ".py",
   "mimetype": "text/x-python",
   "name": "python",
   "nbconvert_exporter": "python",
   "pygments_lexer": "ipython3",
   "version": "3.12.5"
  }
 },
 "nbformat": 4,
 "nbformat_minor": 5
}
